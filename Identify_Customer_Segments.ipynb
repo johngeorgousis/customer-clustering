{
 "cells": [
  {
   "cell_type": "markdown",
   "metadata": {},
   "source": [
    "# Project: Identify Customer Segments\n",
    "\n",
    "In this project, you will apply unsupervised learning techniques to identify segments of the population that form the core customer base for a mail-order sales company in Germany. These segments can then be used to direct marketing campaigns towards audiences that will have the highest expected rate of returns. The data that you will use has been provided by our partners at Bertelsmann Arvato Analytics, and represents a real-life data science task.\n",
    "\n",
    "This notebook will help you complete this task by providing a framework within which you will perform your analysis steps. In each step of the project, you will see some text describing the subtask that you will perform, followed by one or more code cells for you to complete your work. **Feel free to add additional code and markdown cells as you go along so that you can explore everything in precise chunks.** The code cells provided in the base template will outline only the major tasks, and will usually not be enough to cover all of the minor tasks that comprise it.\n",
    "\n",
    "It should be noted that while there will be precise guidelines on how you should handle certain tasks in the project, there will also be places where an exact specification is not provided. **There will be times in the project where you will need to make and justify your own decisions on how to treat the data.** These are places where there may not be only one way to handle the data. In real-life tasks, there may be many valid ways to approach an analysis task. One of the most important things you can do is clearly document your approach so that other scientists can understand the decisions you've made.\n",
    "\n",
    "At the end of most sections, there will be a Markdown cell labeled **Discussion**. In these cells, you will report your findings for the completed section, as well as document the decisions that you made in your approach to each subtask. **Your project will be evaluated not just on the code used to complete the tasks outlined, but also your communication about your observations and conclusions at each stage.**"
   ]
  },
  {
   "cell_type": "markdown",
   "metadata": {},
   "source": [
    "##### 🔴Imports"
   ]
  },
  {
   "cell_type": "code",
   "execution_count": 1,
   "metadata": {},
   "outputs": [
    {
     "data": {
      "text/plain": [
       "'\\nImport note: The classroom currently uses sklearn version 0.19.\\nIf you need to use an imputer, it is available in sklearn.preprocessing.Imputer,\\ninstead of sklearn.impute as in newer versions of sklearn.\\n'"
      ]
     },
     "execution_count": 1,
     "metadata": {},
     "output_type": "execute_result"
    }
   ],
   "source": [
    "# import libraries here; add more as necessary\n",
    "import numpy as np\n",
    "import pandas as pd\n",
    "import matplotlib.pyplot as plt\n",
    "from IPython.display import display\n",
    "import seaborn as sns\n",
    "\n",
    "# magic word for producing visualizations in notebook\n",
    "%matplotlib inline\n",
    "\n",
    "'''\n",
    "Import note: The classroom currently uses sklearn version 0.19.\n",
    "If you need to use an imputer, it is available in sklearn.preprocessing.Imputer,\n",
    "instead of sklearn.impute as in newer versions of sklearn.\n",
    "'''"
   ]
  },
  {
   "cell_type": "markdown",
   "metadata": {},
   "source": [
    "# 🔵🔵🔵Step 0: Load the Data\n",
    "\n",
    "There are four files associated with this project (not including this one):\n",
    "\n",
    "- `Udacity_AZDIAS_Subset.csv`: Demographics data for the general population of Germany; 891211 persons (rows) x 85 features (columns).\n",
    "- `Udacity_CUSTOMERS_Subset.csv`: Demographics data for customers of a mail-order company; 191652 persons (rows) x 85 features (columns).\n",
    "- `Data_Dictionary.md`: Detailed information file about the features in the provided datasets.\n",
    "- `AZDIAS_Feature_Summary.csv`: Summary of feature attributes for demographics data; 85 features (rows) x 4 columns\n",
    "\n",
    "Each row of the demographics files represents a single person, but also includes information outside of individuals, including information about their household, building, and neighborhood. You will use this information to cluster the general population into groups with similar demographic properties. Then, you will see how the people in the customers dataset fit into those created clusters. The hope here is that certain clusters are over-represented in the customers data, as compared to the general population; those over-represented clusters will be assumed to be part of the core userbase. This information can then be used for further applications, such as targeting for a marketing campaign.\n",
    "\n",
    "To start off with, load in the demographics data for the general population into a pandas DataFrame, and do the same for the feature attributes summary. Note for all of the `.csv` data files in this project: they're semicolon (`;`) delimited, so you'll need an additional argument in your [`read_csv()`](https://pandas.pydata.org/pandas-docs/stable/generated/pandas.read_csv.html) call to read in the data properly. Also, considering the size of the main dataset, it may take some time for it to load completely.\n",
    "\n",
    "Once the dataset is loaded, it's recommended that you take a little bit of time just browsing the general structure of the dataset and feature summary file. You'll be getting deep into the innards of the cleaning in the first major step of the project, so gaining some general familiarity can help you get your bearings."
   ]
  },
  {
   "cell_type": "markdown",
   "metadata": {},
   "source": [
    "#### 🔴Data Import and Exploration"
   ]
  },
  {
   "cell_type": "code",
   "execution_count": 2,
   "metadata": {},
   "outputs": [],
   "source": [
    "# Load in the general demographics data\n",
    "azdias = pd.read_csv('./data/Udacity_AZDIAS_Subset.csv', sep=';')\n",
    "\n",
    "# Load in the feature summary file\n",
    "feat_info = pd.read_csv('./data/AZDIAS_Feature_Summary.csv', sep=';')"
   ]
  },
  {
   "cell_type": "code",
   "execution_count": 3,
   "metadata": {},
   "outputs": [
    {
     "data": {
      "text/html": [
       "<div>\n",
       "<style scoped>\n",
       "    .dataframe tbody tr th:only-of-type {\n",
       "        vertical-align: middle;\n",
       "    }\n",
       "\n",
       "    .dataframe tbody tr th {\n",
       "        vertical-align: top;\n",
       "    }\n",
       "\n",
       "    .dataframe thead th {\n",
       "        text-align: right;\n",
       "    }\n",
       "</style>\n",
       "<table border=\"1\" class=\"dataframe\">\n",
       "  <thead>\n",
       "    <tr style=\"text-align: right;\">\n",
       "      <th></th>\n",
       "      <th>AGER_TYP</th>\n",
       "      <th>ALTERSKATEGORIE_GROB</th>\n",
       "      <th>ANREDE_KZ</th>\n",
       "      <th>CJT_GESAMTTYP</th>\n",
       "      <th>FINANZ_MINIMALIST</th>\n",
       "      <th>FINANZ_SPARER</th>\n",
       "      <th>FINANZ_VORSORGER</th>\n",
       "      <th>FINANZ_ANLEGER</th>\n",
       "      <th>FINANZ_UNAUFFAELLIGER</th>\n",
       "      <th>FINANZ_HAUSBAUER</th>\n",
       "      <th>...</th>\n",
       "      <th>PLZ8_ANTG1</th>\n",
       "      <th>PLZ8_ANTG2</th>\n",
       "      <th>PLZ8_ANTG3</th>\n",
       "      <th>PLZ8_ANTG4</th>\n",
       "      <th>PLZ8_BAUMAX</th>\n",
       "      <th>PLZ8_HHZ</th>\n",
       "      <th>PLZ8_GBZ</th>\n",
       "      <th>ARBEIT</th>\n",
       "      <th>ORTSGR_KLS9</th>\n",
       "      <th>RELAT_AB</th>\n",
       "    </tr>\n",
       "  </thead>\n",
       "  <tbody>\n",
       "    <tr>\n",
       "      <th>0</th>\n",
       "      <td>-1</td>\n",
       "      <td>2</td>\n",
       "      <td>1</td>\n",
       "      <td>2.0</td>\n",
       "      <td>3</td>\n",
       "      <td>4</td>\n",
       "      <td>3</td>\n",
       "      <td>5</td>\n",
       "      <td>5</td>\n",
       "      <td>3</td>\n",
       "      <td>...</td>\n",
       "      <td>NaN</td>\n",
       "      <td>NaN</td>\n",
       "      <td>NaN</td>\n",
       "      <td>NaN</td>\n",
       "      <td>NaN</td>\n",
       "      <td>NaN</td>\n",
       "      <td>NaN</td>\n",
       "      <td>NaN</td>\n",
       "      <td>NaN</td>\n",
       "      <td>NaN</td>\n",
       "    </tr>\n",
       "    <tr>\n",
       "      <th>1</th>\n",
       "      <td>-1</td>\n",
       "      <td>1</td>\n",
       "      <td>2</td>\n",
       "      <td>5.0</td>\n",
       "      <td>1</td>\n",
       "      <td>5</td>\n",
       "      <td>2</td>\n",
       "      <td>5</td>\n",
       "      <td>4</td>\n",
       "      <td>5</td>\n",
       "      <td>...</td>\n",
       "      <td>2.0</td>\n",
       "      <td>3.0</td>\n",
       "      <td>2.0</td>\n",
       "      <td>1.0</td>\n",
       "      <td>1.0</td>\n",
       "      <td>5.0</td>\n",
       "      <td>4.0</td>\n",
       "      <td>3.0</td>\n",
       "      <td>5.0</td>\n",
       "      <td>4.0</td>\n",
       "    </tr>\n",
       "    <tr>\n",
       "      <th>2</th>\n",
       "      <td>-1</td>\n",
       "      <td>3</td>\n",
       "      <td>2</td>\n",
       "      <td>3.0</td>\n",
       "      <td>1</td>\n",
       "      <td>4</td>\n",
       "      <td>1</td>\n",
       "      <td>2</td>\n",
       "      <td>3</td>\n",
       "      <td>5</td>\n",
       "      <td>...</td>\n",
       "      <td>3.0</td>\n",
       "      <td>3.0</td>\n",
       "      <td>1.0</td>\n",
       "      <td>0.0</td>\n",
       "      <td>1.0</td>\n",
       "      <td>4.0</td>\n",
       "      <td>4.0</td>\n",
       "      <td>3.0</td>\n",
       "      <td>5.0</td>\n",
       "      <td>2.0</td>\n",
       "    </tr>\n",
       "    <tr>\n",
       "      <th>3</th>\n",
       "      <td>2</td>\n",
       "      <td>4</td>\n",
       "      <td>2</td>\n",
       "      <td>2.0</td>\n",
       "      <td>4</td>\n",
       "      <td>2</td>\n",
       "      <td>5</td>\n",
       "      <td>2</td>\n",
       "      <td>1</td>\n",
       "      <td>2</td>\n",
       "      <td>...</td>\n",
       "      <td>2.0</td>\n",
       "      <td>2.0</td>\n",
       "      <td>2.0</td>\n",
       "      <td>0.0</td>\n",
       "      <td>1.0</td>\n",
       "      <td>3.0</td>\n",
       "      <td>4.0</td>\n",
       "      <td>2.0</td>\n",
       "      <td>3.0</td>\n",
       "      <td>3.0</td>\n",
       "    </tr>\n",
       "    <tr>\n",
       "      <th>4</th>\n",
       "      <td>-1</td>\n",
       "      <td>3</td>\n",
       "      <td>1</td>\n",
       "      <td>5.0</td>\n",
       "      <td>4</td>\n",
       "      <td>3</td>\n",
       "      <td>4</td>\n",
       "      <td>1</td>\n",
       "      <td>3</td>\n",
       "      <td>2</td>\n",
       "      <td>...</td>\n",
       "      <td>2.0</td>\n",
       "      <td>4.0</td>\n",
       "      <td>2.0</td>\n",
       "      <td>1.0</td>\n",
       "      <td>2.0</td>\n",
       "      <td>3.0</td>\n",
       "      <td>3.0</td>\n",
       "      <td>4.0</td>\n",
       "      <td>6.0</td>\n",
       "      <td>5.0</td>\n",
       "    </tr>\n",
       "  </tbody>\n",
       "</table>\n",
       "<p>5 rows × 85 columns</p>\n",
       "</div>"
      ],
      "text/plain": [
       "   AGER_TYP  ALTERSKATEGORIE_GROB  ANREDE_KZ  CJT_GESAMTTYP  \\\n",
       "0        -1                     2          1            2.0   \n",
       "1        -1                     1          2            5.0   \n",
       "2        -1                     3          2            3.0   \n",
       "3         2                     4          2            2.0   \n",
       "4        -1                     3          1            5.0   \n",
       "\n",
       "   FINANZ_MINIMALIST  FINANZ_SPARER  FINANZ_VORSORGER  FINANZ_ANLEGER  \\\n",
       "0                  3              4                 3               5   \n",
       "1                  1              5                 2               5   \n",
       "2                  1              4                 1               2   \n",
       "3                  4              2                 5               2   \n",
       "4                  4              3                 4               1   \n",
       "\n",
       "   FINANZ_UNAUFFAELLIGER  FINANZ_HAUSBAUER  ...  PLZ8_ANTG1  PLZ8_ANTG2  \\\n",
       "0                      5                 3  ...         NaN         NaN   \n",
       "1                      4                 5  ...         2.0         3.0   \n",
       "2                      3                 5  ...         3.0         3.0   \n",
       "3                      1                 2  ...         2.0         2.0   \n",
       "4                      3                 2  ...         2.0         4.0   \n",
       "\n",
       "   PLZ8_ANTG3  PLZ8_ANTG4  PLZ8_BAUMAX  PLZ8_HHZ  PLZ8_GBZ  ARBEIT  \\\n",
       "0         NaN         NaN          NaN       NaN       NaN     NaN   \n",
       "1         2.0         1.0          1.0       5.0       4.0     3.0   \n",
       "2         1.0         0.0          1.0       4.0       4.0     3.0   \n",
       "3         2.0         0.0          1.0       3.0       4.0     2.0   \n",
       "4         2.0         1.0          2.0       3.0       3.0     4.0   \n",
       "\n",
       "   ORTSGR_KLS9  RELAT_AB  \n",
       "0          NaN       NaN  \n",
       "1          5.0       4.0  \n",
       "2          5.0       2.0  \n",
       "3          3.0       3.0  \n",
       "4          6.0       5.0  \n",
       "\n",
       "[5 rows x 85 columns]"
      ]
     },
     "metadata": {},
     "output_type": "display_data"
    },
    {
     "name": "stdout",
     "output_type": "stream",
     "text": [
      "Shape of demographics data:  (891221, 85)\n",
      "AGER_TYP                  int64\n",
      "ALTERSKATEGORIE_GROB      int64\n",
      "ANREDE_KZ                 int64\n",
      "CJT_GESAMTTYP           float64\n",
      "FINANZ_MINIMALIST         int64\n",
      "                         ...   \n",
      "PLZ8_HHZ                float64\n",
      "PLZ8_GBZ                float64\n",
      "ARBEIT                  float64\n",
      "ORTSGR_KLS9             float64\n",
      "RELAT_AB                float64\n",
      "Length: 85, dtype: object\n"
     ]
    }
   ],
   "source": [
    "# Check the structure of the data \n",
    "display(azdias.head())\n",
    "print('Shape of demographics data: ', azdias.shape)\n",
    "print(azdias.dtypes)"
   ]
  },
  {
   "cell_type": "code",
   "execution_count": 4,
   "metadata": {},
   "outputs": [
    {
     "data": {
      "text/html": [
       "<div>\n",
       "<style scoped>\n",
       "    .dataframe tbody tr th:only-of-type {\n",
       "        vertical-align: middle;\n",
       "    }\n",
       "\n",
       "    .dataframe tbody tr th {\n",
       "        vertical-align: top;\n",
       "    }\n",
       "\n",
       "    .dataframe thead th {\n",
       "        text-align: right;\n",
       "    }\n",
       "</style>\n",
       "<table border=\"1\" class=\"dataframe\">\n",
       "  <thead>\n",
       "    <tr style=\"text-align: right;\">\n",
       "      <th></th>\n",
       "      <th>attribute</th>\n",
       "      <th>information_level</th>\n",
       "      <th>type</th>\n",
       "      <th>missing_or_unknown</th>\n",
       "    </tr>\n",
       "  </thead>\n",
       "  <tbody>\n",
       "    <tr>\n",
       "      <th>0</th>\n",
       "      <td>AGER_TYP</td>\n",
       "      <td>person</td>\n",
       "      <td>categorical</td>\n",
       "      <td>[-1,0]</td>\n",
       "    </tr>\n",
       "    <tr>\n",
       "      <th>1</th>\n",
       "      <td>ALTERSKATEGORIE_GROB</td>\n",
       "      <td>person</td>\n",
       "      <td>ordinal</td>\n",
       "      <td>[-1,0,9]</td>\n",
       "    </tr>\n",
       "    <tr>\n",
       "      <th>2</th>\n",
       "      <td>ANREDE_KZ</td>\n",
       "      <td>person</td>\n",
       "      <td>categorical</td>\n",
       "      <td>[-1,0]</td>\n",
       "    </tr>\n",
       "    <tr>\n",
       "      <th>3</th>\n",
       "      <td>CJT_GESAMTTYP</td>\n",
       "      <td>person</td>\n",
       "      <td>categorical</td>\n",
       "      <td>[0]</td>\n",
       "    </tr>\n",
       "    <tr>\n",
       "      <th>4</th>\n",
       "      <td>FINANZ_MINIMALIST</td>\n",
       "      <td>person</td>\n",
       "      <td>ordinal</td>\n",
       "      <td>[-1]</td>\n",
       "    </tr>\n",
       "    <tr>\n",
       "      <th>...</th>\n",
       "      <td>...</td>\n",
       "      <td>...</td>\n",
       "      <td>...</td>\n",
       "      <td>...</td>\n",
       "    </tr>\n",
       "    <tr>\n",
       "      <th>80</th>\n",
       "      <td>PLZ8_HHZ</td>\n",
       "      <td>macrocell_plz8</td>\n",
       "      <td>ordinal</td>\n",
       "      <td>[-1]</td>\n",
       "    </tr>\n",
       "    <tr>\n",
       "      <th>81</th>\n",
       "      <td>PLZ8_GBZ</td>\n",
       "      <td>macrocell_plz8</td>\n",
       "      <td>ordinal</td>\n",
       "      <td>[-1]</td>\n",
       "    </tr>\n",
       "    <tr>\n",
       "      <th>82</th>\n",
       "      <td>ARBEIT</td>\n",
       "      <td>community</td>\n",
       "      <td>ordinal</td>\n",
       "      <td>[-1,9]</td>\n",
       "    </tr>\n",
       "    <tr>\n",
       "      <th>83</th>\n",
       "      <td>ORTSGR_KLS9</td>\n",
       "      <td>community</td>\n",
       "      <td>ordinal</td>\n",
       "      <td>[-1,0]</td>\n",
       "    </tr>\n",
       "    <tr>\n",
       "      <th>84</th>\n",
       "      <td>RELAT_AB</td>\n",
       "      <td>community</td>\n",
       "      <td>ordinal</td>\n",
       "      <td>[-1,9]</td>\n",
       "    </tr>\n",
       "  </tbody>\n",
       "</table>\n",
       "<p>85 rows × 4 columns</p>\n",
       "</div>"
      ],
      "text/plain": [
       "               attribute information_level         type missing_or_unknown\n",
       "0               AGER_TYP            person  categorical             [-1,0]\n",
       "1   ALTERSKATEGORIE_GROB            person      ordinal           [-1,0,9]\n",
       "2              ANREDE_KZ            person  categorical             [-1,0]\n",
       "3          CJT_GESAMTTYP            person  categorical                [0]\n",
       "4      FINANZ_MINIMALIST            person      ordinal               [-1]\n",
       "..                   ...               ...          ...                ...\n",
       "80              PLZ8_HHZ    macrocell_plz8      ordinal               [-1]\n",
       "81              PLZ8_GBZ    macrocell_plz8      ordinal               [-1]\n",
       "82                ARBEIT         community      ordinal             [-1,9]\n",
       "83           ORTSGR_KLS9         community      ordinal             [-1,0]\n",
       "84              RELAT_AB         community      ordinal             [-1,9]\n",
       "\n",
       "[85 rows x 4 columns]"
      ]
     },
     "metadata": {},
     "output_type": "display_data"
    }
   ],
   "source": [
    "# Display feature information \n",
    "display(feat_info)"
   ]
  },
  {
   "cell_type": "markdown",
   "metadata": {},
   "source": [
    "# 🔵🔵🔵Step 1: Preprocessing\n",
    "\n",
    "## 🔵🔵Step 1.1: Assess Missing Data\n",
    "\n",
    "The feature summary file contains a summary of properties for each demographics data column. You will use this file to help you make cleaning decisions during this stage of the project. First of all, you should assess the demographics data in terms of missing data. Pay attention to the following points as you perform your analysis, and take notes on what you observe. Make sure that you fill in the **Discussion** cell with your findings and decisions at the end of each step that has one!\n",
    "\n",
    "#### 🔵Step 1.1.1: Convert Missing Value Codes to NaNs\n",
    "The fourth column of the feature attributes summary (loaded in above as `feat_info`) documents the codes from the data dictionary that indicate missing or unknown data. While the file encodes this as a list (e.g. `[-1,0]`), this will get read in as a string object. You'll need to do a little bit of parsing to make use of it to identify and clean the data. Convert data that matches a 'missing' or 'unknown' value code into a numpy NaN value. You might want to see how much data takes on a 'missing' or 'unknown' code, and how much data is naturally missing, as a point of interest."
   ]
  },
  {
   "cell_type": "markdown",
   "metadata": {},
   "source": [
    "#### 🔴Identify missing or unknown data values and convert to NaNs\n",
    "\n"
   ]
  },
  {
   "cell_type": "code",
   "execution_count": 5,
   "metadata": {},
   "outputs": [],
   "source": [
    "# Calculate naturally missing values (NaN) for later use\n",
    "nat_nan = azdias.isnull().sum().sum()"
   ]
  },
  {
   "cell_type": "code",
   "execution_count": 6,
   "metadata": {},
   "outputs": [],
   "source": [
    "# Helper function\n",
    "def convert_nan(column):\n",
    "    # Extract list of encodings from feat_info for feature\n",
    "    codes_str = list(feat_info[feat_info['attribute'] == column.name]['missing_or_unknown'])[0]\n",
    "    \n",
    "    # Parse string\n",
    "    codes = codes_str.replace('[', '').replace(']', '').split(',')\n",
    "    \n",
    "    # Replace missing value with NaN\n",
    "    return column.apply(lambda x: np.NaN if str(x) in codes else x)"
   ]
  },
  {
   "cell_type": "code",
   "execution_count": 7,
   "metadata": {},
   "outputs": [],
   "source": [
    "azdias = azdias.apply(convert_nan)"
   ]
  },
  {
   "cell_type": "markdown",
   "metadata": {},
   "source": [
    "#### 🔴 Compare Naturally Missing Data vs Categorised as Missing"
   ]
  },
  {
   "cell_type": "code",
   "execution_count": 8,
   "metadata": {},
   "outputs": [
    {
     "name": "stdout",
     "output_type": "stream",
     "text": [
      "Data that are categorised as \"missing\" or \"unknown\": 1632228, (2.15%)\n",
      "Data that are naturally missing: 4896838, (6.46%)\n",
      "Total NaN: 8.61879838743371, (8.62%)\n"
     ]
    }
   ],
   "source": [
    "total_nan = azdias.isnull().sum().sum()\n",
    "non_nat_nan = azdias.isnull().sum().sum() - nat_nan\n",
    "total_values = azdias.size\n",
    "percent_non_nat_nan = 100 * non_nat_nan / total_values\n",
    "percent_nat_nan = 100 * nat_nan / total_values\n",
    "percent_nan = 100 * total_nan / total_values\n",
    "print('Data that are categorised as \"missing\" or \"unknown\": {}, ({}%)'.format(non_nat_nan, round(percent_non_nat_nan, 2)))\n",
    "print('Data that are naturally missing: {}, ({}%)'.format(nat_nan, round(percent_nat_nan, 2)))\n",
    "print('Total NaN: {}, ({}%)'.format(percent_nan, round(percent_nan, 2)))"
   ]
  },
  {
   "cell_type": "markdown",
   "metadata": {},
   "source": [
    "#### 🔵Step 1.1.2: Assess Missing Data in Each Column\n",
    "\n",
    "How much missing data is present in each column? There are a few columns that are outliers in terms of the proportion of values that are missing. You will want to use matplotlib's [`hist()`](https://matplotlib.org/api/_as_gen/matplotlib.pyplot.hist.html) function to visualize the distribution of missing value counts to find these columns. Identify and document these columns. While some of these columns might have justifications for keeping or re-encoding the data, for this project you should just remove them from the dataframe. (Feel free to make remarks about these outlier columns in the discussion, however!)\n",
    "\n",
    "- Are there any patterns in which columns have, or share, missing data?"
   ]
  },
  {
   "cell_type": "markdown",
   "metadata": {},
   "source": [
    "#### 🔴Identify Hard Outliers (~40-80% NaN)"
   ]
  },
  {
   "cell_type": "code",
   "execution_count": 9,
   "metadata": {},
   "outputs": [
    {
     "data": {
      "image/png": "[encoded data removed]",
      "text/plain": [
       "<Figure size 432x288 with 1 Axes>"
      ]
     },
     "metadata": {
      "needs_background": "light"
     },
     "output_type": "display_data"
    },
    {
     "data": {
      "image/png": "[encoded data removed]",
      "text/plain": [
       "<Figure size 432x288 with 1 Axes>"
      ]
     },
     "metadata": {
      "needs_background": "light"
     },
     "output_type": "display_data"
    }
   ],
   "source": [
    "# Plot histogram of # NaN \n",
    "total_nan_cols = azdias.isnull().sum()                 # NaNs per Column\n",
    "n, bins, patches = plt.hist(total_nan_cols, bins=15)   # Plot Histogram\n",
    "plt.ylabel('# Features')\n",
    "plt.xlabel('# NaNs')  \n",
    "plt.title('Dataset with Hard Outliers')\n",
    "plt.show()\n",
    "\n",
    "# Plot histogram of % NaN\n",
    "ptotal_nan_cols = (azdias.isnull().mean())\n",
    "n, bins, patches = plt.hist(ptotal_nan_cols, bins=15)\n",
    "plt.ylabel('# Features')\n",
    "plt.xlabel('% NaNs')\n",
    "plt.show()"
   ]
  },
  {
   "cell_type": "code",
   "execution_count": 10,
   "metadata": {},
   "outputs": [
    {
     "name": "stdout",
     "output_type": "stream",
     "text": [
      "Outliers (many NaNs): \n",
      "\n"
     ]
    },
    {
     "data": {
      "text/html": [
       "<div>\n",
       "<style scoped>\n",
       "    .dataframe tbody tr th:only-of-type {\n",
       "        vertical-align: middle;\n",
       "    }\n",
       "\n",
       "    .dataframe tbody tr th {\n",
       "        vertical-align: top;\n",
       "    }\n",
       "\n",
       "    .dataframe thead th {\n",
       "        text-align: right;\n",
       "    }\n",
       "</style>\n",
       "<table border=\"1\" class=\"dataframe\">\n",
       "  <thead>\n",
       "    <tr style=\"text-align: right;\">\n",
       "      <th></th>\n",
       "      <th>Proportion of NaNs</th>\n",
       "    </tr>\n",
       "  </thead>\n",
       "  <tbody>\n",
       "    <tr>\n",
       "      <th>AGER_TYP</th>\n",
       "      <td>0.769554</td>\n",
       "    </tr>\n",
       "    <tr>\n",
       "      <th>GEBURTSJAHR</th>\n",
       "      <td>0.440203</td>\n",
       "    </tr>\n",
       "    <tr>\n",
       "      <th>KK_KUNDENTYP</th>\n",
       "      <td>0.655967</td>\n",
       "    </tr>\n",
       "  </tbody>\n",
       "</table>\n",
       "</div>"
      ],
      "text/plain": [
       "              Proportion of NaNs\n",
       "AGER_TYP                0.769554\n",
       "GEBURTSJAHR             0.440203\n",
       "KK_KUNDENTYP            0.655967"
      ]
     },
     "metadata": {},
     "output_type": "display_data"
    }
   ],
   "source": [
    "# Identify Outliers\n",
    "outliers_index = list(ptotal_nan_cols[(ptotal_nan_cols > 0.4)].index)\n",
    "outliers_value = list(ptotal_nan_cols[(ptotal_nan_cols > 0.4)].values)\n",
    "print('Outliers (many NaNs): \\n')\n",
    "\n",
    "outliers = pd.Series(outliers_value, outliers_index)\n",
    "display(pd.DataFrame(outliers, columns = ['Proportion of NaNs']))"
   ]
  },
  {
   "cell_type": "code",
   "execution_count": 11,
   "metadata": {},
   "outputs": [
    {
     "data": {
      "text/html": [
       "<div>\n",
       "<style scoped>\n",
       "    .dataframe tbody tr th:only-of-type {\n",
       "        vertical-align: middle;\n",
       "    }\n",
       "\n",
       "    .dataframe tbody tr th {\n",
       "        vertical-align: top;\n",
       "    }\n",
       "\n",
       "    .dataframe thead th {\n",
       "        text-align: right;\n",
       "    }\n",
       "</style>\n",
       "<table border=\"1\" class=\"dataframe\">\n",
       "  <thead>\n",
       "    <tr style=\"text-align: right;\">\n",
       "      <th></th>\n",
       "      <th>attribute</th>\n",
       "      <th>information_level</th>\n",
       "      <th>type</th>\n",
       "      <th>missing_or_unknown</th>\n",
       "    </tr>\n",
       "  </thead>\n",
       "  <tbody>\n",
       "    <tr>\n",
       "      <th>0</th>\n",
       "      <td>AGER_TYP</td>\n",
       "      <td>person</td>\n",
       "      <td>categorical</td>\n",
       "      <td>[-1,0]</td>\n",
       "    </tr>\n",
       "    <tr>\n",
       "      <th>1</th>\n",
       "      <td>ALTERSKATEGORIE_GROB</td>\n",
       "      <td>person</td>\n",
       "      <td>ordinal</td>\n",
       "      <td>[-1,0,9]</td>\n",
       "    </tr>\n",
       "    <tr>\n",
       "      <th>2</th>\n",
       "      <td>ANREDE_KZ</td>\n",
       "      <td>person</td>\n",
       "      <td>categorical</td>\n",
       "      <td>[-1,0]</td>\n",
       "    </tr>\n",
       "    <tr>\n",
       "      <th>3</th>\n",
       "      <td>CJT_GESAMTTYP</td>\n",
       "      <td>person</td>\n",
       "      <td>categorical</td>\n",
       "      <td>[0]</td>\n",
       "    </tr>\n",
       "    <tr>\n",
       "      <th>4</th>\n",
       "      <td>FINANZ_MINIMALIST</td>\n",
       "      <td>person</td>\n",
       "      <td>ordinal</td>\n",
       "      <td>[-1]</td>\n",
       "    </tr>\n",
       "    <tr>\n",
       "      <th>...</th>\n",
       "      <td>...</td>\n",
       "      <td>...</td>\n",
       "      <td>...</td>\n",
       "      <td>...</td>\n",
       "    </tr>\n",
       "    <tr>\n",
       "      <th>80</th>\n",
       "      <td>PLZ8_HHZ</td>\n",
       "      <td>macrocell_plz8</td>\n",
       "      <td>ordinal</td>\n",
       "      <td>[-1]</td>\n",
       "    </tr>\n",
       "    <tr>\n",
       "      <th>81</th>\n",
       "      <td>PLZ8_GBZ</td>\n",
       "      <td>macrocell_plz8</td>\n",
       "      <td>ordinal</td>\n",
       "      <td>[-1]</td>\n",
       "    </tr>\n",
       "    <tr>\n",
       "      <th>82</th>\n",
       "      <td>ARBEIT</td>\n",
       "      <td>community</td>\n",
       "      <td>ordinal</td>\n",
       "      <td>[-1,9]</td>\n",
       "    </tr>\n",
       "    <tr>\n",
       "      <th>83</th>\n",
       "      <td>ORTSGR_KLS9</td>\n",
       "      <td>community</td>\n",
       "      <td>ordinal</td>\n",
       "      <td>[-1,0]</td>\n",
       "    </tr>\n",
       "    <tr>\n",
       "      <th>84</th>\n",
       "      <td>RELAT_AB</td>\n",
       "      <td>community</td>\n",
       "      <td>ordinal</td>\n",
       "      <td>[-1,9]</td>\n",
       "    </tr>\n",
       "  </tbody>\n",
       "</table>\n",
       "<p>85 rows × 4 columns</p>\n",
       "</div>"
      ],
      "text/plain": [
       "               attribute information_level         type missing_or_unknown\n",
       "0               AGER_TYP            person  categorical             [-1,0]\n",
       "1   ALTERSKATEGORIE_GROB            person      ordinal           [-1,0,9]\n",
       "2              ANREDE_KZ            person  categorical             [-1,0]\n",
       "3          CJT_GESAMTTYP            person  categorical                [0]\n",
       "4      FINANZ_MINIMALIST            person      ordinal               [-1]\n",
       "..                   ...               ...          ...                ...\n",
       "80              PLZ8_HHZ    macrocell_plz8      ordinal               [-1]\n",
       "81              PLZ8_GBZ    macrocell_plz8      ordinal               [-1]\n",
       "82                ARBEIT         community      ordinal             [-1,9]\n",
       "83           ORTSGR_KLS9         community      ordinal             [-1,0]\n",
       "84              RELAT_AB         community      ordinal             [-1,9]\n",
       "\n",
       "[85 rows x 4 columns]"
      ]
     },
     "execution_count": 11,
     "metadata": {},
     "output_type": "execute_result"
    }
   ],
   "source": [
    "feat_info"
   ]
  },
  {
   "cell_type": "markdown",
   "metadata": {},
   "source": [
    "#### 🔴Drop Hard Outliers (from azdias and feat_info)"
   ]
  },
  {
   "cell_type": "code",
   "execution_count": 12,
   "metadata": {},
   "outputs": [
    {
     "name": "stdout",
     "output_type": "stream",
     "text": [
      "Dropped 3 features.\n"
     ]
    }
   ],
   "source": [
    "# Create new dataset without hard outliers\n",
    "azdias_1 = azdias.drop(outliers_index, axis=1)\n",
    "\n",
    "print('Dropped {} features.'.format(azdias.shape[1] - azdias_1.shape[1]))"
   ]
  },
  {
   "cell_type": "code",
   "execution_count": 13,
   "metadata": {},
   "outputs": [
    {
     "name": "stdout",
     "output_type": "stream",
     "text": [
      "Dropped 3 features.\n"
     ]
    }
   ],
   "source": [
    "# Create new feat_info without hard outliers (for later use)\n",
    "drop_index = []\n",
    "\n",
    "for i in range(feat_info.shape[0]):\n",
    "    if feat_info['attribute'][i] in outliers_index:\n",
    "        drop_index.append(i)\n",
    "\n",
    "feat_info_1 = feat_info.drop(drop_index, axis=0)\n",
    "print('Dropped {} features.'.format(feat_info.shape[0] - feat_info_1.shape[0]))"
   ]
  },
  {
   "cell_type": "markdown",
   "metadata": {},
   "source": [
    "#### 🔴Identify Soft Outliers (~8-15% NaN)"
   ]
  },
  {
   "cell_type": "code",
   "execution_count": 14,
   "metadata": {},
   "outputs": [
    {
     "data": {
      "image/png": "[encoded data removed]",
      "text/plain": [
       "<Figure size 432x288 with 1 Axes>"
      ]
     },
     "metadata": {
      "needs_background": "light"
     },
     "output_type": "display_data"
    },
    {
     "data": {
      "image/png": "[encoded data removed]",
      "text/plain": [
       "<Figure size 432x288 with 1 Axes>"
      ]
     },
     "metadata": {
      "needs_background": "light"
     },
     "output_type": "display_data"
    }
   ],
   "source": [
    "# # Plot soft histogram of # NaN \n",
    "total_nan_cols_soft = azdias_1.isnull().sum()                 # Define NaNs per Column\n",
    "n, bins, patches = plt.hist(total_nan_cols_soft, bins=20)     # Plot Histogram\n",
    "plt.ylabel(\"# Features\")\n",
    "plt.xlabel(\"# NaNs\")  \n",
    "plt.title('Dataset with Soft Outliers')\n",
    "plt.show()\n",
    "\n",
    "# # Plot soft histogram of % NaN \n",
    "ptotal_nan_cols_soft = (azdias_1.isnull().mean())\n",
    "n, bins, patches = plt.hist(ptotal_nan_cols_soft, bins=20)\n",
    "plt.ylabel('# Features')\n",
    "plt.xlabel('% NaNs')\n",
    "plt.show()"
   ]
  },
  {
   "cell_type": "code",
   "execution_count": 15,
   "metadata": {},
   "outputs": [
    {
     "data": {
      "text/html": [
       "<div>\n",
       "<style scoped>\n",
       "    .dataframe tbody tr th:only-of-type {\n",
       "        vertical-align: middle;\n",
       "    }\n",
       "\n",
       "    .dataframe tbody tr th {\n",
       "        vertical-align: top;\n",
       "    }\n",
       "\n",
       "    .dataframe thead th {\n",
       "        text-align: right;\n",
       "    }\n",
       "</style>\n",
       "<table border=\"1\" class=\"dataframe\">\n",
       "  <thead>\n",
       "    <tr style=\"text-align: right;\">\n",
       "      <th></th>\n",
       "      <th>Proportion of NaNs</th>\n",
       "    </tr>\n",
       "  </thead>\n",
       "  <tbody>\n",
       "    <tr>\n",
       "      <th>HEALTH_TYP</th>\n",
       "      <td>0.124768</td>\n",
       "    </tr>\n",
       "    <tr>\n",
       "      <th>NATIONALITAET_KZ</th>\n",
       "      <td>0.121536</td>\n",
       "    </tr>\n",
       "    <tr>\n",
       "      <th>PRAEGENDE_JUGENDJAHRE</th>\n",
       "      <td>0.121366</td>\n",
       "    </tr>\n",
       "    <tr>\n",
       "      <th>SHOPPER_TYP</th>\n",
       "      <td>0.124768</td>\n",
       "    </tr>\n",
       "    <tr>\n",
       "      <th>SOHO_KZ</th>\n",
       "      <td>0.082470</td>\n",
       "    </tr>\n",
       "    <tr>\n",
       "      <th>TITEL_KZ</th>\n",
       "      <td>0.082470</td>\n",
       "    </tr>\n",
       "    <tr>\n",
       "      <th>VERS_TYP</th>\n",
       "      <td>0.124768</td>\n",
       "    </tr>\n",
       "    <tr>\n",
       "      <th>ALTER_HH</th>\n",
       "      <td>0.082470</td>\n",
       "    </tr>\n",
       "    <tr>\n",
       "      <th>ANZ_PERSONEN</th>\n",
       "      <td>0.082470</td>\n",
       "    </tr>\n",
       "    <tr>\n",
       "      <th>ANZ_TITEL</th>\n",
       "      <td>0.082470</td>\n",
       "    </tr>\n",
       "    <tr>\n",
       "      <th>W_KEIT_KIND_HH</th>\n",
       "      <td>0.120735</td>\n",
       "    </tr>\n",
       "    <tr>\n",
       "      <th>WOHNDAUER_2008</th>\n",
       "      <td>0.082470</td>\n",
       "    </tr>\n",
       "    <tr>\n",
       "      <th>ANZ_HAUSHALTE_AKTIV</th>\n",
       "      <td>0.104517</td>\n",
       "    </tr>\n",
       "    <tr>\n",
       "      <th>ANZ_HH_TITEL</th>\n",
       "      <td>0.108848</td>\n",
       "    </tr>\n",
       "    <tr>\n",
       "      <th>GEBAEUDETYP</th>\n",
       "      <td>0.104517</td>\n",
       "    </tr>\n",
       "    <tr>\n",
       "      <th>KONSUMNAEHE</th>\n",
       "      <td>0.082997</td>\n",
       "    </tr>\n",
       "    <tr>\n",
       "      <th>MIN_GEBAEUDEJAHR</th>\n",
       "      <td>0.104517</td>\n",
       "    </tr>\n",
       "    <tr>\n",
       "      <th>OST_WEST_KZ</th>\n",
       "      <td>0.104517</td>\n",
       "    </tr>\n",
       "    <tr>\n",
       "      <th>WOHNLAGE</th>\n",
       "      <td>0.104517</td>\n",
       "    </tr>\n",
       "    <tr>\n",
       "      <th>CAMEO_DEUG_2015</th>\n",
       "      <td>0.111479</td>\n",
       "    </tr>\n",
       "    <tr>\n",
       "      <th>CAMEO_DEU_2015</th>\n",
       "      <td>0.111479</td>\n",
       "    </tr>\n",
       "    <tr>\n",
       "      <th>CAMEO_INTL_2015</th>\n",
       "      <td>0.111479</td>\n",
       "    </tr>\n",
       "    <tr>\n",
       "      <th>KBA05_ANTG1</th>\n",
       "      <td>0.149597</td>\n",
       "    </tr>\n",
       "    <tr>\n",
       "      <th>KBA05_ANTG2</th>\n",
       "      <td>0.149597</td>\n",
       "    </tr>\n",
       "    <tr>\n",
       "      <th>KBA05_ANTG3</th>\n",
       "      <td>0.149597</td>\n",
       "    </tr>\n",
       "    <tr>\n",
       "      <th>KBA05_ANTG4</th>\n",
       "      <td>0.149597</td>\n",
       "    </tr>\n",
       "    <tr>\n",
       "      <th>KBA05_BAUMAX</th>\n",
       "      <td>0.149597</td>\n",
       "    </tr>\n",
       "    <tr>\n",
       "      <th>KBA05_GBZ</th>\n",
       "      <td>0.149597</td>\n",
       "    </tr>\n",
       "    <tr>\n",
       "      <th>BALLRAUM</th>\n",
       "      <td>0.105182</td>\n",
       "    </tr>\n",
       "    <tr>\n",
       "      <th>EWDICHTE</th>\n",
       "      <td>0.105182</td>\n",
       "    </tr>\n",
       "    <tr>\n",
       "      <th>INNENSTADT</th>\n",
       "      <td>0.105182</td>\n",
       "    </tr>\n",
       "    <tr>\n",
       "      <th>GEBAEUDETYP_RASTER</th>\n",
       "      <td>0.104525</td>\n",
       "    </tr>\n",
       "    <tr>\n",
       "      <th>KKK</th>\n",
       "      <td>0.135989</td>\n",
       "    </tr>\n",
       "    <tr>\n",
       "      <th>MOBI_REGIO</th>\n",
       "      <td>0.149597</td>\n",
       "    </tr>\n",
       "    <tr>\n",
       "      <th>REGIOTYP</th>\n",
       "      <td>0.135989</td>\n",
       "    </tr>\n",
       "    <tr>\n",
       "      <th>KBA13_ANZAHL_PKW</th>\n",
       "      <td>0.118714</td>\n",
       "    </tr>\n",
       "    <tr>\n",
       "      <th>PLZ8_ANTG1</th>\n",
       "      <td>0.130736</td>\n",
       "    </tr>\n",
       "    <tr>\n",
       "      <th>PLZ8_ANTG2</th>\n",
       "      <td>0.130736</td>\n",
       "    </tr>\n",
       "    <tr>\n",
       "      <th>PLZ8_ANTG3</th>\n",
       "      <td>0.130736</td>\n",
       "    </tr>\n",
       "    <tr>\n",
       "      <th>PLZ8_ANTG4</th>\n",
       "      <td>0.130736</td>\n",
       "    </tr>\n",
       "    <tr>\n",
       "      <th>PLZ8_BAUMAX</th>\n",
       "      <td>0.130736</td>\n",
       "    </tr>\n",
       "    <tr>\n",
       "      <th>PLZ8_HHZ</th>\n",
       "      <td>0.130736</td>\n",
       "    </tr>\n",
       "    <tr>\n",
       "      <th>PLZ8_GBZ</th>\n",
       "      <td>0.130736</td>\n",
       "    </tr>\n",
       "    <tr>\n",
       "      <th>ARBEIT</th>\n",
       "      <td>0.109082</td>\n",
       "    </tr>\n",
       "    <tr>\n",
       "      <th>ORTSGR_KLS9</th>\n",
       "      <td>0.109082</td>\n",
       "    </tr>\n",
       "    <tr>\n",
       "      <th>RELAT_AB</th>\n",
       "      <td>0.109082</td>\n",
       "    </tr>\n",
       "  </tbody>\n",
       "</table>\n",
       "</div>"
      ],
      "text/plain": [
       "                       Proportion of NaNs\n",
       "HEALTH_TYP                       0.124768\n",
       "NATIONALITAET_KZ                 0.121536\n",
       "PRAEGENDE_JUGENDJAHRE            0.121366\n",
       "SHOPPER_TYP                      0.124768\n",
       "SOHO_KZ                          0.082470\n",
       "TITEL_KZ                         0.082470\n",
       "VERS_TYP                         0.124768\n",
       "ALTER_HH                         0.082470\n",
       "ANZ_PERSONEN                     0.082470\n",
       "ANZ_TITEL                        0.082470\n",
       "W_KEIT_KIND_HH                   0.120735\n",
       "WOHNDAUER_2008                   0.082470\n",
       "ANZ_HAUSHALTE_AKTIV              0.104517\n",
       "ANZ_HH_TITEL                     0.108848\n",
       "GEBAEUDETYP                      0.104517\n",
       "KONSUMNAEHE                      0.082997\n",
       "MIN_GEBAEUDEJAHR                 0.104517\n",
       "OST_WEST_KZ                      0.104517\n",
       "WOHNLAGE                         0.104517\n",
       "CAMEO_DEUG_2015                  0.111479\n",
       "CAMEO_DEU_2015                   0.111479\n",
       "CAMEO_INTL_2015                  0.111479\n",
       "KBA05_ANTG1                      0.149597\n",
       "KBA05_ANTG2                      0.149597\n",
       "KBA05_ANTG3                      0.149597\n",
       "KBA05_ANTG4                      0.149597\n",
       "KBA05_BAUMAX                     0.149597\n",
       "KBA05_GBZ                        0.149597\n",
       "BALLRAUM                         0.105182\n",
       "EWDICHTE                         0.105182\n",
       "INNENSTADT                       0.105182\n",
       "GEBAEUDETYP_RASTER               0.104525\n",
       "KKK                              0.135989\n",
       "MOBI_REGIO                       0.149597\n",
       "REGIOTYP                         0.135989\n",
       "KBA13_ANZAHL_PKW                 0.118714\n",
       "PLZ8_ANTG1                       0.130736\n",
       "PLZ8_ANTG2                       0.130736\n",
       "PLZ8_ANTG3                       0.130736\n",
       "PLZ8_ANTG4                       0.130736\n",
       "PLZ8_BAUMAX                      0.130736\n",
       "PLZ8_HHZ                         0.130736\n",
       "PLZ8_GBZ                         0.130736\n",
       "ARBEIT                           0.109082\n",
       "ORTSGR_KLS9                      0.109082\n",
       "RELAT_AB                         0.109082"
      ]
     },
     "metadata": {},
     "output_type": "display_data"
    }
   ],
   "source": [
    "# Identify Soft Outliers\n",
    "outliers_index_soft = list(ptotal_nan_cols[(ptotal_nan_cols > 0.08) & (ptotal_nan_cols < 0.16)].index)\n",
    "outliers_value_soft = list(ptotal_nan_cols[(ptotal_nan_cols > 0.08) & (ptotal_nan_cols < 0.16)].values)\n",
    "\n",
    "# Define series and display\n",
    "outliers_soft = pd.Series(outliers_value_soft, outliers_index_soft)\n",
    "outliers_soft = pd.DataFrame(outliers_soft, columns = ['Proportion of NaNs'])\n",
    "display(outliers_soft)"
   ]
  },
  {
   "cell_type": "markdown",
   "metadata": {},
   "source": [
    "#### 🔴Identify Patterns in Soft Outliers"
   ]
  },
  {
   "cell_type": "code",
   "execution_count": 16,
   "metadata": {},
   "outputs": [
    {
     "data": {
      "image/png": "[encoded data removed]",
      "text/plain": [
       "<Figure size 432x288 with 1 Axes>"
      ]
     },
     "metadata": {
      "needs_background": "light"
     },
     "output_type": "display_data"
    }
   ],
   "source": [
    "# Plot number of NaNs vs Corresponding Feature\n",
    "plt.plot(outliers_soft.index, 100*outliers_soft.values, 'bo', markersize=4)\n",
    "plt.ylabel('% NaN')\n",
    "plt.xlabel('Features')\n",
    "plt.tick_params(\n",
    "    axis='x',          \n",
    "    bottom=False,      \n",
    "    top=False,         \n",
    "    labelbottom=False) \n",
    "\n",
    "#??????\n",
    "plt.rcParams['figure.figsize'] = 10, 3\n",
    "\n",
    "\n",
    "plt.show()"
   ]
  },
  {
   "cell_type": "markdown",
   "metadata": {},
   "source": [
    "#### 🔴Group soft outliers with equal #NaNs to see patterns"
   ]
  },
  {
   "cell_type": "code",
   "execution_count": 17,
   "metadata": {},
   "outputs": [
    {
     "data": {
      "text/html": [
       "<div>\n",
       "<style scoped>\n",
       "    .dataframe tbody tr th:only-of-type {\n",
       "        vertical-align: middle;\n",
       "    }\n",
       "\n",
       "    .dataframe tbody tr th {\n",
       "        vertical-align: top;\n",
       "    }\n",
       "\n",
       "    .dataframe thead th {\n",
       "        text-align: right;\n",
       "    }\n",
       "</style>\n",
       "<table border=\"1\" class=\"dataframe\">\n",
       "  <thead>\n",
       "    <tr style=\"text-align: right;\">\n",
       "      <th></th>\n",
       "      <th>0</th>\n",
       "      <th>1</th>\n",
       "      <th>2</th>\n",
       "      <th>3</th>\n",
       "      <th>4</th>\n",
       "      <th>5</th>\n",
       "      <th>6</th>\n",
       "      <th>7</th>\n",
       "      <th>8</th>\n",
       "      <th>9</th>\n",
       "      <th>...</th>\n",
       "      <th>36</th>\n",
       "      <th>37</th>\n",
       "      <th>38</th>\n",
       "      <th>39</th>\n",
       "      <th>40</th>\n",
       "      <th>41</th>\n",
       "      <th>42</th>\n",
       "      <th>43</th>\n",
       "      <th>44</th>\n",
       "      <th>45</th>\n",
       "    </tr>\n",
       "  </thead>\n",
       "  <tbody>\n",
       "    <tr>\n",
       "      <th>group 1</th>\n",
       "      <td>HEALTH_TYP</td>\n",
       "      <td>NATIONALITAET_KZ</td>\n",
       "      <td>PRAEGENDE_JUGENDJAHRE</td>\n",
       "      <td>SHOPPER_TYP</td>\n",
       "      <td>SOHO_KZ</td>\n",
       "      <td>TITEL_KZ</td>\n",
       "      <td>VERS_TYP</td>\n",
       "      <td>ALTER_HH</td>\n",
       "      <td>ANZ_PERSONEN</td>\n",
       "      <td>ANZ_TITEL</td>\n",
       "      <td>...</td>\n",
       "      <td>PLZ8_ANTG1</td>\n",
       "      <td>PLZ8_ANTG2</td>\n",
       "      <td>PLZ8_ANTG3</td>\n",
       "      <td>PLZ8_ANTG4</td>\n",
       "      <td>PLZ8_BAUMAX</td>\n",
       "      <td>PLZ8_HHZ</td>\n",
       "      <td>PLZ8_GBZ</td>\n",
       "      <td>ARBEIT</td>\n",
       "      <td>ORTSGR_KLS9</td>\n",
       "      <td>RELAT_AB</td>\n",
       "    </tr>\n",
       "    <tr>\n",
       "      <th>group 2</th>\n",
       "      <td>HEALTH_TYP</td>\n",
       "      <td>NATIONALITAET_KZ</td>\n",
       "      <td>PRAEGENDE_JUGENDJAHRE</td>\n",
       "      <td>SHOPPER_TYP</td>\n",
       "      <td>SOHO_KZ</td>\n",
       "      <td>TITEL_KZ</td>\n",
       "      <td>VERS_TYP</td>\n",
       "      <td>ALTER_HH</td>\n",
       "      <td>ANZ_PERSONEN</td>\n",
       "      <td>ANZ_TITEL</td>\n",
       "      <td>...</td>\n",
       "      <td>PLZ8_ANTG1</td>\n",
       "      <td>PLZ8_ANTG2</td>\n",
       "      <td>PLZ8_ANTG3</td>\n",
       "      <td>PLZ8_ANTG4</td>\n",
       "      <td>PLZ8_BAUMAX</td>\n",
       "      <td>PLZ8_HHZ</td>\n",
       "      <td>PLZ8_GBZ</td>\n",
       "      <td>ARBEIT</td>\n",
       "      <td>ORTSGR_KLS9</td>\n",
       "      <td>RELAT_AB</td>\n",
       "    </tr>\n",
       "    <tr>\n",
       "      <th>group 3</th>\n",
       "      <td>HEALTH_TYP</td>\n",
       "      <td>NATIONALITAET_KZ</td>\n",
       "      <td>PRAEGENDE_JUGENDJAHRE</td>\n",
       "      <td>SHOPPER_TYP</td>\n",
       "      <td>SOHO_KZ</td>\n",
       "      <td>TITEL_KZ</td>\n",
       "      <td>VERS_TYP</td>\n",
       "      <td>ALTER_HH</td>\n",
       "      <td>ANZ_PERSONEN</td>\n",
       "      <td>ANZ_TITEL</td>\n",
       "      <td>...</td>\n",
       "      <td>PLZ8_ANTG1</td>\n",
       "      <td>PLZ8_ANTG2</td>\n",
       "      <td>PLZ8_ANTG3</td>\n",
       "      <td>PLZ8_ANTG4</td>\n",
       "      <td>PLZ8_BAUMAX</td>\n",
       "      <td>PLZ8_HHZ</td>\n",
       "      <td>PLZ8_GBZ</td>\n",
       "      <td>ARBEIT</td>\n",
       "      <td>ORTSGR_KLS9</td>\n",
       "      <td>RELAT_AB</td>\n",
       "    </tr>\n",
       "    <tr>\n",
       "      <th>group 4</th>\n",
       "      <td>HEALTH_TYP</td>\n",
       "      <td>NATIONALITAET_KZ</td>\n",
       "      <td>PRAEGENDE_JUGENDJAHRE</td>\n",
       "      <td>SHOPPER_TYP</td>\n",
       "      <td>SOHO_KZ</td>\n",
       "      <td>TITEL_KZ</td>\n",
       "      <td>VERS_TYP</td>\n",
       "      <td>ALTER_HH</td>\n",
       "      <td>ANZ_PERSONEN</td>\n",
       "      <td>ANZ_TITEL</td>\n",
       "      <td>...</td>\n",
       "      <td>PLZ8_ANTG1</td>\n",
       "      <td>PLZ8_ANTG2</td>\n",
       "      <td>PLZ8_ANTG3</td>\n",
       "      <td>PLZ8_ANTG4</td>\n",
       "      <td>PLZ8_BAUMAX</td>\n",
       "      <td>PLZ8_HHZ</td>\n",
       "      <td>PLZ8_GBZ</td>\n",
       "      <td>ARBEIT</td>\n",
       "      <td>ORTSGR_KLS9</td>\n",
       "      <td>RELAT_AB</td>\n",
       "    </tr>\n",
       "    <tr>\n",
       "      <th>group 5</th>\n",
       "      <td>HEALTH_TYP</td>\n",
       "      <td>NATIONALITAET_KZ</td>\n",
       "      <td>PRAEGENDE_JUGENDJAHRE</td>\n",
       "      <td>SHOPPER_TYP</td>\n",
       "      <td>SOHO_KZ</td>\n",
       "      <td>TITEL_KZ</td>\n",
       "      <td>VERS_TYP</td>\n",
       "      <td>ALTER_HH</td>\n",
       "      <td>ANZ_PERSONEN</td>\n",
       "      <td>ANZ_TITEL</td>\n",
       "      <td>...</td>\n",
       "      <td>PLZ8_ANTG1</td>\n",
       "      <td>PLZ8_ANTG2</td>\n",
       "      <td>PLZ8_ANTG3</td>\n",
       "      <td>PLZ8_ANTG4</td>\n",
       "      <td>PLZ8_BAUMAX</td>\n",
       "      <td>PLZ8_HHZ</td>\n",
       "      <td>PLZ8_GBZ</td>\n",
       "      <td>ARBEIT</td>\n",
       "      <td>ORTSGR_KLS9</td>\n",
       "      <td>RELAT_AB</td>\n",
       "    </tr>\n",
       "    <tr>\n",
       "      <th>group 6</th>\n",
       "      <td>HEALTH_TYP</td>\n",
       "      <td>NATIONALITAET_KZ</td>\n",
       "      <td>PRAEGENDE_JUGENDJAHRE</td>\n",
       "      <td>SHOPPER_TYP</td>\n",
       "      <td>SOHO_KZ</td>\n",
       "      <td>TITEL_KZ</td>\n",
       "      <td>VERS_TYP</td>\n",
       "      <td>ALTER_HH</td>\n",
       "      <td>ANZ_PERSONEN</td>\n",
       "      <td>ANZ_TITEL</td>\n",
       "      <td>...</td>\n",
       "      <td>PLZ8_ANTG1</td>\n",
       "      <td>PLZ8_ANTG2</td>\n",
       "      <td>PLZ8_ANTG3</td>\n",
       "      <td>PLZ8_ANTG4</td>\n",
       "      <td>PLZ8_BAUMAX</td>\n",
       "      <td>PLZ8_HHZ</td>\n",
       "      <td>PLZ8_GBZ</td>\n",
       "      <td>ARBEIT</td>\n",
       "      <td>ORTSGR_KLS9</td>\n",
       "      <td>RELAT_AB</td>\n",
       "    </tr>\n",
       "    <tr>\n",
       "      <th>group 7</th>\n",
       "      <td>HEALTH_TYP</td>\n",
       "      <td>NATIONALITAET_KZ</td>\n",
       "      <td>PRAEGENDE_JUGENDJAHRE</td>\n",
       "      <td>SHOPPER_TYP</td>\n",
       "      <td>SOHO_KZ</td>\n",
       "      <td>TITEL_KZ</td>\n",
       "      <td>VERS_TYP</td>\n",
       "      <td>ALTER_HH</td>\n",
       "      <td>ANZ_PERSONEN</td>\n",
       "      <td>ANZ_TITEL</td>\n",
       "      <td>...</td>\n",
       "      <td>PLZ8_ANTG1</td>\n",
       "      <td>PLZ8_ANTG2</td>\n",
       "      <td>PLZ8_ANTG3</td>\n",
       "      <td>PLZ8_ANTG4</td>\n",
       "      <td>PLZ8_BAUMAX</td>\n",
       "      <td>PLZ8_HHZ</td>\n",
       "      <td>PLZ8_GBZ</td>\n",
       "      <td>ARBEIT</td>\n",
       "      <td>ORTSGR_KLS9</td>\n",
       "      <td>RELAT_AB</td>\n",
       "    </tr>\n",
       "    <tr>\n",
       "      <th>group 8</th>\n",
       "      <td>HEALTH_TYP</td>\n",
       "      <td>NATIONALITAET_KZ</td>\n",
       "      <td>PRAEGENDE_JUGENDJAHRE</td>\n",
       "      <td>SHOPPER_TYP</td>\n",
       "      <td>SOHO_KZ</td>\n",
       "      <td>TITEL_KZ</td>\n",
       "      <td>VERS_TYP</td>\n",
       "      <td>ALTER_HH</td>\n",
       "      <td>ANZ_PERSONEN</td>\n",
       "      <td>ANZ_TITEL</td>\n",
       "      <td>...</td>\n",
       "      <td>PLZ8_ANTG1</td>\n",
       "      <td>PLZ8_ANTG2</td>\n",
       "      <td>PLZ8_ANTG3</td>\n",
       "      <td>PLZ8_ANTG4</td>\n",
       "      <td>PLZ8_BAUMAX</td>\n",
       "      <td>PLZ8_HHZ</td>\n",
       "      <td>PLZ8_GBZ</td>\n",
       "      <td>ARBEIT</td>\n",
       "      <td>ORTSGR_KLS9</td>\n",
       "      <td>RELAT_AB</td>\n",
       "    </tr>\n",
       "    <tr>\n",
       "      <th>group 9</th>\n",
       "      <td>HEALTH_TYP</td>\n",
       "      <td>NATIONALITAET_KZ</td>\n",
       "      <td>PRAEGENDE_JUGENDJAHRE</td>\n",
       "      <td>SHOPPER_TYP</td>\n",
       "      <td>SOHO_KZ</td>\n",
       "      <td>TITEL_KZ</td>\n",
       "      <td>VERS_TYP</td>\n",
       "      <td>ALTER_HH</td>\n",
       "      <td>ANZ_PERSONEN</td>\n",
       "      <td>ANZ_TITEL</td>\n",
       "      <td>...</td>\n",
       "      <td>PLZ8_ANTG1</td>\n",
       "      <td>PLZ8_ANTG2</td>\n",
       "      <td>PLZ8_ANTG3</td>\n",
       "      <td>PLZ8_ANTG4</td>\n",
       "      <td>PLZ8_BAUMAX</td>\n",
       "      <td>PLZ8_HHZ</td>\n",
       "      <td>PLZ8_GBZ</td>\n",
       "      <td>ARBEIT</td>\n",
       "      <td>ORTSGR_KLS9</td>\n",
       "      <td>RELAT_AB</td>\n",
       "    </tr>\n",
       "  </tbody>\n",
       "</table>\n",
       "<p>9 rows × 46 columns</p>\n",
       "</div>"
      ],
      "text/plain": [
       "                 0                 1                      2            3   \\\n",
       "group 1  HEALTH_TYP  NATIONALITAET_KZ  PRAEGENDE_JUGENDJAHRE  SHOPPER_TYP   \n",
       "group 2  HEALTH_TYP  NATIONALITAET_KZ  PRAEGENDE_JUGENDJAHRE  SHOPPER_TYP   \n",
       "group 3  HEALTH_TYP  NATIONALITAET_KZ  PRAEGENDE_JUGENDJAHRE  SHOPPER_TYP   \n",
       "group 4  HEALTH_TYP  NATIONALITAET_KZ  PRAEGENDE_JUGENDJAHRE  SHOPPER_TYP   \n",
       "group 5  HEALTH_TYP  NATIONALITAET_KZ  PRAEGENDE_JUGENDJAHRE  SHOPPER_TYP   \n",
       "group 6  HEALTH_TYP  NATIONALITAET_KZ  PRAEGENDE_JUGENDJAHRE  SHOPPER_TYP   \n",
       "group 7  HEALTH_TYP  NATIONALITAET_KZ  PRAEGENDE_JUGENDJAHRE  SHOPPER_TYP   \n",
       "group 8  HEALTH_TYP  NATIONALITAET_KZ  PRAEGENDE_JUGENDJAHRE  SHOPPER_TYP   \n",
       "group 9  HEALTH_TYP  NATIONALITAET_KZ  PRAEGENDE_JUGENDJAHRE  SHOPPER_TYP   \n",
       "\n",
       "              4         5         6         7             8          9   ...  \\\n",
       "group 1  SOHO_KZ  TITEL_KZ  VERS_TYP  ALTER_HH  ANZ_PERSONEN  ANZ_TITEL  ...   \n",
       "group 2  SOHO_KZ  TITEL_KZ  VERS_TYP  ALTER_HH  ANZ_PERSONEN  ANZ_TITEL  ...   \n",
       "group 3  SOHO_KZ  TITEL_KZ  VERS_TYP  ALTER_HH  ANZ_PERSONEN  ANZ_TITEL  ...   \n",
       "group 4  SOHO_KZ  TITEL_KZ  VERS_TYP  ALTER_HH  ANZ_PERSONEN  ANZ_TITEL  ...   \n",
       "group 5  SOHO_KZ  TITEL_KZ  VERS_TYP  ALTER_HH  ANZ_PERSONEN  ANZ_TITEL  ...   \n",
       "group 6  SOHO_KZ  TITEL_KZ  VERS_TYP  ALTER_HH  ANZ_PERSONEN  ANZ_TITEL  ...   \n",
       "group 7  SOHO_KZ  TITEL_KZ  VERS_TYP  ALTER_HH  ANZ_PERSONEN  ANZ_TITEL  ...   \n",
       "group 8  SOHO_KZ  TITEL_KZ  VERS_TYP  ALTER_HH  ANZ_PERSONEN  ANZ_TITEL  ...   \n",
       "group 9  SOHO_KZ  TITEL_KZ  VERS_TYP  ALTER_HH  ANZ_PERSONEN  ANZ_TITEL  ...   \n",
       "\n",
       "                 36          37          38          39           40  \\\n",
       "group 1  PLZ8_ANTG1  PLZ8_ANTG2  PLZ8_ANTG3  PLZ8_ANTG4  PLZ8_BAUMAX   \n",
       "group 2  PLZ8_ANTG1  PLZ8_ANTG2  PLZ8_ANTG3  PLZ8_ANTG4  PLZ8_BAUMAX   \n",
       "group 3  PLZ8_ANTG1  PLZ8_ANTG2  PLZ8_ANTG3  PLZ8_ANTG4  PLZ8_BAUMAX   \n",
       "group 4  PLZ8_ANTG1  PLZ8_ANTG2  PLZ8_ANTG3  PLZ8_ANTG4  PLZ8_BAUMAX   \n",
       "group 5  PLZ8_ANTG1  PLZ8_ANTG2  PLZ8_ANTG3  PLZ8_ANTG4  PLZ8_BAUMAX   \n",
       "group 6  PLZ8_ANTG1  PLZ8_ANTG2  PLZ8_ANTG3  PLZ8_ANTG4  PLZ8_BAUMAX   \n",
       "group 7  PLZ8_ANTG1  PLZ8_ANTG2  PLZ8_ANTG3  PLZ8_ANTG4  PLZ8_BAUMAX   \n",
       "group 8  PLZ8_ANTG1  PLZ8_ANTG2  PLZ8_ANTG3  PLZ8_ANTG4  PLZ8_BAUMAX   \n",
       "group 9  PLZ8_ANTG1  PLZ8_ANTG2  PLZ8_ANTG3  PLZ8_ANTG4  PLZ8_BAUMAX   \n",
       "\n",
       "               41        42      43           44        45  \n",
       "group 1  PLZ8_HHZ  PLZ8_GBZ  ARBEIT  ORTSGR_KLS9  RELAT_AB  \n",
       "group 2  PLZ8_HHZ  PLZ8_GBZ  ARBEIT  ORTSGR_KLS9  RELAT_AB  \n",
       "group 3  PLZ8_HHZ  PLZ8_GBZ  ARBEIT  ORTSGR_KLS9  RELAT_AB  \n",
       "group 4  PLZ8_HHZ  PLZ8_GBZ  ARBEIT  ORTSGR_KLS9  RELAT_AB  \n",
       "group 5  PLZ8_HHZ  PLZ8_GBZ  ARBEIT  ORTSGR_KLS9  RELAT_AB  \n",
       "group 6  PLZ8_HHZ  PLZ8_GBZ  ARBEIT  ORTSGR_KLS9  RELAT_AB  \n",
       "group 7  PLZ8_HHZ  PLZ8_GBZ  ARBEIT  ORTSGR_KLS9  RELAT_AB  \n",
       "group 8  PLZ8_HHZ  PLZ8_GBZ  ARBEIT  ORTSGR_KLS9  RELAT_AB  \n",
       "group 9  PLZ8_HHZ  PLZ8_GBZ  ARBEIT  ORTSGR_KLS9  RELAT_AB  \n",
       "\n",
       "[9 rows x 46 columns]"
      ]
     },
     "metadata": {},
     "output_type": "display_data"
    }
   ],
   "source": [
    "# Group features with same # Nans\n",
    "group = []\n",
    "\n",
    "for value in outliers_soft.values:\n",
    "    \n",
    "    lst = list(outliers_soft[(outliers_soft == value)].index)\n",
    "    \n",
    "    if lst not in group and len(lst) > 1:\n",
    "        group.append(lst)\n",
    "\n",
    "group = pd.DataFrame(group, index = ['group 1', 'group 2', 'group 3', 'group 4', 'group 5', 'group 6', 'group 7', 'group 8', 'group 9'])\n",
    "display(group)"
   ]
  },
  {
   "cell_type": "code",
   "execution_count": 18,
   "metadata": {},
   "outputs": [
    {
     "data": {
      "text/plain": [
       "Index(['group 1', 'group 2', 'group 3', 'group 4', 'group 5', 'group 6',\n",
       "       'group 7', 'group 8', 'group 9'],\n",
       "      dtype='object')"
      ]
     },
     "execution_count": 18,
     "metadata": {},
     "output_type": "execute_result"
    }
   ],
   "source": [
    "group.index"
   ]
  },
  {
   "cell_type": "code",
   "execution_count": 19,
   "metadata": {},
   "outputs": [],
   "source": [
    "# Investigate whether the NaNs are in the same rows for each group \n",
    "# for row in group.index:\n",
    "#     for feature in group(row):\n",
    "#         if feature != None:\n",
    "#             for value1, value2 in azdias_1[feature]:\n",
    "#                 if value == \n"
   ]
  },
  {
   "cell_type": "markdown",
   "metadata": {},
   "source": [
    "#### 🔴# Features with close to 0 NaNs"
   ]
  },
  {
   "cell_type": "code",
   "execution_count": 20,
   "metadata": {},
   "outputs": [
    {
     "name": "stdout",
     "output_type": "stream",
     "text": [
      "There are 35 features with less than 1% NaNs!\n"
     ]
    }
   ],
   "source": [
    "clean_features = list(ptotal_nan_cols[(ptotal_nan_cols < 0.01)].index)\n",
    "\n",
    "print('There are {} features with less than 1% NaNs!'.format(len(clean_features)))"
   ]
  },
  {
   "cell_type": "markdown",
   "metadata": {},
   "source": [
    "#### 🟡🟡🟡Discussion 1.1.2: Assess Missing Data in Each Column\n",
    "\n",
    "Report your observations regarding the amount of missing data in each column. \n",
    "\n",
    "- Are there any patterns in missing values? \n",
    "- Which columns were removed from the dataset?\n",
    "\n",
    "From the initial histogram we can see that there are three significant outliers whose values are largely NaN (~40-80% NaN). \n",
    "These features (which I decided to delete due to their abundance of missing values) are the following:\n",
    "- Best-ager typology (AGER_TYP)\n",
    "- Year of birth (GEBURTSJAHR)\n",
    "- Consumer pattern over past 12 months (KK_KUNDENTYP)\n",
    "\n",
    "Then, there is a larger set of features with fewer NaNs (8-15% NaNs) which I refer to as \"soft outliers\".\n",
    "From the plot we can see that many of those features share the exact same amount of NaNs. \n",
    "\n",
    "\n",
    "Finally, out of the 85 features (initially), we can see that there are 35 that have close to 0 NaNs (<1%). "
   ]
  },
  {
   "cell_type": "markdown",
   "metadata": {},
   "source": [
    "#### 🔵Step 1.1.3: Assess Missing Data in Each Row\n",
    "\n",
    "Now, you'll perform a similar assessment for the rows of the dataset. \n",
    "\n",
    "- How much data is missing in each row? \n",
    "\n",
    "As with the columns, you should see some groups of points that have a very different numbers of missing values. \n",
    "\n",
    "- Divide the data into two subsets: one for data points that are above some threshold for missing values, and a second subset for points below that threshold.\n",
    "\n",
    "In order to know what to do with the outlier rows, we should see if the distribution of data values on columns that are not missing data (or are missing very little data) are similar or different between the two groups. Select at least five of these columns and compare the distribution of values.\n"
   ]
  },
  {
   "cell_type": "markdown",
   "metadata": {},
   "source": [
    "#### 🔴Plot histogram of Rows vs Number of NaNs "
   ]
  },
  {
   "cell_type": "code",
   "execution_count": 21,
   "metadata": {},
   "outputs": [
    {
     "data": {
      "image/png": "[encoded data removed]",
      "text/plain": [
       "<Figure size 720x216 with 1 Axes>"
      ]
     },
     "metadata": {
      "needs_background": "light"
     },
     "output_type": "display_data"
    },
    {
     "data": {
      "image/png": "[encoded data removed]",
      "text/plain": [
       "<Figure size 720x216 with 1 Axes>"
      ]
     },
     "metadata": {
      "needs_background": "light"
     },
     "output_type": "display_data"
    }
   ],
   "source": [
    "# Plot soft histogram of # NaN \n",
    "total_nan_rows = azdias_1.isnull().sum(axis=1)                 \n",
    "n, bins, patches = plt.hist(total_nan_rows, bins=30)           \n",
    "plt.ylabel(\"# Feature Vectors\")\n",
    "plt.xlabel(\"# NaNs (rows)\")  \n",
    "plt.title('Dataset with Soft Outliers')\n",
    "plt.show()\n",
    "\n",
    "# Plot soft histogram of % NaN \n",
    "ptotal_nan_rows = (azdias_1.isnull().mean(axis=1))\n",
    "n, bins, patches = plt.hist(ptotal_nan_rows, bins=30)\n",
    "plt.ylabel('# Feature Vectors')\n",
    "plt.xlabel('% NaNs (rows)')\n",
    "plt.show()"
   ]
  },
  {
   "cell_type": "markdown",
   "metadata": {},
   "source": [
    "#### 🔴Divide data into two subsets based on NaN count"
   ]
  },
  {
   "cell_type": "code",
   "execution_count": 22,
   "metadata": {},
   "outputs": [],
   "source": [
    "#Divide the data into two subsets based on the number of missing values in each row\n",
    "sub1_index = list(ptotal_nan_rows[ptotal_nan_rows < 0.3].index)\n",
    "sub2_index = list(ptotal_nan_rows[ptotal_nan_rows > 0.3].index)\n",
    "\n",
    "azdias_2 = azdias_1.drop(sub2_index, axis=0)\n",
    "sub_outliers = azdias_1.drop(sub1_index, axis=0)"
   ]
  },
  {
   "cell_type": "code",
   "execution_count": 23,
   "metadata": {},
   "outputs": [
    {
     "name": "stdout",
     "output_type": "stream",
     "text": [
      "The number of outliers (rows) is 93271 (~10% of the original dataset)\n"
     ]
    }
   ],
   "source": [
    "# Count Outliers in Rows\n",
    "print('The number of outliers (rows) is {} (~{}% of the original dataset)'.format(azdias_1.shape[0] - azdias_2.shape[0], round(100*(azdias_1.shape[0] - azdias_2.shape[0])/azdias_1.shape[0])))"
   ]
  },
  {
   "cell_type": "markdown",
   "metadata": {},
   "source": [
    "🔵\n",
    "- You can use seaborn's [`countplot()`](https://seaborn.pydata.org/generated/seaborn.countplot.html) function to create a bar chart of code frequencies and matplotlib's [`subplot()`](https://matplotlib.org/api/_as_gen/matplotlib.pyplot.subplot.html) function to put bar charts for the two subplots side by side.\n",
    "- To reduce repeated code, you might want to write a function that can perform this comparison, taking as one of its arguments a column to be compared.\n",
    "\n",
    "Depending on what you observe in your comparison, this will have implications on how you approach your conclusions later in the analysis. If the distributions of non-missing features look similar between the data with many missing values and the data with few or no missing values, then we could argue that simply dropping those points from the analysis won't present a major issue. On the other hand, if the data with many missing values looks very different from the data with few or no missing values, then we should make a note on those data as special. We'll revisit these data later on. **Either way, you should continue your analysis for now using just the subset of the data with few or no missing values.**"
   ]
  },
  {
   "cell_type": "markdown",
   "metadata": {},
   "source": []
  },
  {
   "cell_type": "markdown",
   "metadata": {},
   "source": [
    "#### 🔴Plot 5 columns for both datasets and compare the relative % value count"
   ]
  },
  {
   "cell_type": "code",
   "execution_count": 24,
   "metadata": {},
   "outputs": [
    {
     "name": "stdout",
     "output_type": "stream",
     "text": [
      "['GREEN_AVANTGARDE' 'SEMIO_KULT' 'ANREDE_KZ' 'SEMIO_KRIT' 'SEMIO_REL']\n"
     ]
    }
   ],
   "source": [
    "# Pick 5 random columns with 0 NaN\n",
    "np.random.seed(42)\n",
    "\n",
    "s0 = azdias_1.isna().sum()\n",
    "s1 = s0[(s0 == 0)]\n",
    "s2 = pd.Series(s1.index)\n",
    "column_list = s2.sample(5).values\n",
    "\n",
    "\n",
    "print(column_list)"
   ]
  },
  {
   "cell_type": "code",
   "execution_count": 25,
   "metadata": {},
   "outputs": [],
   "source": [
    "def col_diff(col_list):\n",
    "    for column in col_list:\n",
    "        fig, axes = plt.subplots(1, 2, figsize=(15, 2))   \n",
    "        \n",
    "        # Define barplot for Low NaN Rows (make y-axis percentage so that difference in row vectors is accounted for)\n",
    "        ax1 = sns.barplot(x=azdias_2[column], \n",
    "                          y=azdias_2[column], \n",
    "                          data=azdias_2[column], \n",
    "                          estimator=lambda x: len(x) / len(azdias_2[column]) * 100, \n",
    "                          color='c', ax=axes[0])\n",
    "        ax1.set(ylabel=\"Percent\")        \n",
    "        axes[0].set_title('Low NaN Rows')\n",
    "        axes[0].set_yticks(np.arange(0, 101, 25))\n",
    "        \n",
    "        \n",
    "        # Define barplot for Low NaN Rows (make y-axis percentage so that difference in row vectors is accounted for)\n",
    "        ax2 = sns.barplot(x=sub_outliers[column], \n",
    "                          y=sub_outliers[column], \n",
    "                          data=sub_outliers[column], \n",
    "                          estimator=lambda x: len(x) / len(sub_outliers[column]) * 100, \n",
    "                          color='r', ax=axes[1])\n",
    "        ax2.set(ylabel=\"Percent\")  \n",
    "        axes[1].set_title('High NaN Rows')\n",
    "        axes[0].set\n",
    "        axes[1].set_yticks(np.arange(0, 101, 25))\n",
    "        \n",
    "        plt.show()"
   ]
  },
  {
   "cell_type": "code",
   "execution_count": 26,
   "metadata": {},
   "outputs": [
    {
     "data": {
      "image/png": "[encoded data removed]",
      "text/plain": [
       "<Figure size 1080x144 with 2 Axes>"
      ]
     },
     "metadata": {
      "needs_background": "light"
     },
     "output_type": "display_data"
    },
    {
     "data": {
      "image/png": "[encoded data removed]",
      "text/plain": [
       "<Figure size 1080x144 with 2 Axes>"
      ]
     },
     "metadata": {
      "needs_background": "light"
     },
     "output_type": "display_data"
    },
    {
     "data": {
      "image/png": "[encoded data removed]",
      "text/plain": [
       "<Figure size 1080x144 with 2 Axes>"
      ]
     },
     "metadata": {
      "needs_background": "light"
     },
     "output_type": "display_data"
    },
    {
     "data": {
      "image/png": "[encoded data removed]",
      "text/plain": [
       "<Figure size 1080x144 with 2 Axes>"
      ]
     },
     "metadata": {
      "needs_background": "light"
     },
     "output_type": "display_data"
    },
    {
     "data": {
      "image/png": "[encoded data removed]",
      "text/plain": [
       "<Figure size 1080x144 with 2 Axes>"
      ]
     },
     "metadata": {
      "needs_background": "light"
     },
     "output_type": "display_data"
    }
   ],
   "source": [
    "col_diff(column_list)"
   ]
  },
  {
   "cell_type": "markdown",
   "metadata": {},
   "source": [
    "#### 🟡🟡🟡Discussion 1.1.3: Assess Missing Data in Each Row\n",
    "\n",
    "Reporting your observations regarding missing data in rows. \n",
    "\n",
    "- Are the data with lots of missing values are qualitatively different from data with few or no missing values?\n",
    "\n",
    "Firstly, we noticed that about 10% of the rows have more than 30% NaNs. Then, we split the dataset into two subsets based on that threshold. \n",
    "\n",
    "From the plots we observe that the data vary significantly between the two subsets (for all 5 features that were picked at random). Thus, we conclude that removing the rows that are high in NaN values might lead to unwanted bias. "
   ]
  },
  {
   "cell_type": "markdown",
   "metadata": {},
   "source": [
    "## 🔵🔵Step 1.2: Select and Re-Encode Features\n",
    "\n",
    "Checking for missing data isn't the only way in which you can prepare a dataset for analysis. Since the unsupervised learning techniques to be used will only work on data that is encoded numerically, you need to make a few encoding changes or additional assumptions to be able to make progress. In addition, while almost all of the values in the dataset are encoded using numbers, not all of them represent numeric values. Check the third column of the feature summary (`feat_info`) for a summary of types of measurement.\n",
    "- For numeric and interval data, these features can be kept without changes.\n",
    "- Most of the variables in the dataset are ordinal in nature. While ordinal values may technically be non-linear in spacing, make the simplifying assumption that the ordinal variables can be treated as being interval in nature (that is, kept without any changes).\n",
    "- Special handling may be necessary for the remaining two variable types: categorical, and 'mixed'.\n",
    "\n",
    "In the first two parts of this sub-step, you will perform an investigation of the categorical and mixed-type features and make a decision on each of them, whether you will keep, drop, or re-encode each. Then, in the last part, you will create a new data frame with only the selected and engineered columns.\n",
    "\n",
    "Data wrangling is often the trickiest part of the data analysis process, and there's a lot of it to be done here. But stick with it: once you're done with this step, you'll be ready to get to the machine learning parts of the project!"
   ]
  },
  {
   "cell_type": "code",
   "execution_count": 27,
   "metadata": {},
   "outputs": [
    {
     "data": {
      "text/html": [
       "<div>\n",
       "<style scoped>\n",
       "    .dataframe tbody tr th:only-of-type {\n",
       "        vertical-align: middle;\n",
       "    }\n",
       "\n",
       "    .dataframe tbody tr th {\n",
       "        vertical-align: top;\n",
       "    }\n",
       "\n",
       "    .dataframe thead th {\n",
       "        text-align: right;\n",
       "    }\n",
       "</style>\n",
       "<table border=\"1\" class=\"dataframe\">\n",
       "  <thead>\n",
       "    <tr style=\"text-align: right;\">\n",
       "      <th></th>\n",
       "      <th>Type</th>\n",
       "      <th>Count</th>\n",
       "    </tr>\n",
       "  </thead>\n",
       "  <tbody>\n",
       "    <tr>\n",
       "      <th>0</th>\n",
       "      <td>ordinal</td>\n",
       "      <td>49</td>\n",
       "    </tr>\n",
       "    <tr>\n",
       "      <th>1</th>\n",
       "      <td>categorical</td>\n",
       "      <td>19</td>\n",
       "    </tr>\n",
       "    <tr>\n",
       "      <th>2</th>\n",
       "      <td>mixed</td>\n",
       "      <td>7</td>\n",
       "    </tr>\n",
       "    <tr>\n",
       "      <th>3</th>\n",
       "      <td>numeric</td>\n",
       "      <td>6</td>\n",
       "    </tr>\n",
       "    <tr>\n",
       "      <th>4</th>\n",
       "      <td>interval</td>\n",
       "      <td>1</td>\n",
       "    </tr>\n",
       "  </tbody>\n",
       "</table>\n",
       "</div>"
      ],
      "text/plain": [
       "          Type  Count\n",
       "0      ordinal     49\n",
       "1  categorical     19\n",
       "2        mixed      7\n",
       "3      numeric      6\n",
       "4     interval      1"
      ]
     },
     "metadata": {},
     "output_type": "display_data"
    }
   ],
   "source": [
    "# Number of features for each data type\n",
    "display(pd.DataFrame({'Type': feat_info_1['type'].value_counts().index, 'Count': feat_info_1['type'].value_counts().values}))"
   ]
  },
  {
   "cell_type": "markdown",
   "metadata": {},
   "source": [
    "#### 🔵Step 1.2.1: Re-Encode Categorical Features\n",
    "\n",
    "For categorical data, you would ordinarily need to encode the levels as dummy variables. Depending on the number of categories, perform one of the following:\n",
    "- For binary (two-level) categoricals that take numeric values, you can keep them without needing to do anything.\n",
    "- There is one binary variable that takes on non-numeric values. For this one, you need to re-encode the values as numbers or create a dummy variable.\n",
    "- For multi-level categoricals (three or more values), you can choose to encode the values using multiple dummy variables (e.g. via [OneHotEncoder](http://scikit-learn.org/stable/modules/generated/sklearn.preprocessing.OneHotEncoder.html)), or (to keep things straightforward) just drop them from the analysis. As always, document your choices in the Discussion section."
   ]
  },
  {
   "cell_type": "markdown",
   "metadata": {},
   "source": [
    "#### 🔴Extract Categorical Features"
   ]
  },
  {
   "cell_type": "code",
   "execution_count": 28,
   "metadata": {},
   "outputs": [
    {
     "name": "stderr",
     "output_type": "stream",
     "text": [
      "C:\\Users\\johng\\anaconda3\\lib\\site-packages\\ipykernel_launcher.py:2: UserWarning: Boolean Series key will be reindexed to match DataFrame index.\n",
      "  \n"
     ]
    }
   ],
   "source": [
    "# Extract categorical features\n",
    "categorical = feat_info_1[feat_info['type'] == 'categorical']['attribute'].values\n",
    "# Extract their unique value count\n",
    "categorical_values = pd.DataFrame(azdias_2[categorical].nunique(dropna=True), columns=['Unique Values'])\n",
    "\n",
    "# Extract Mixed features\n",
    "mixed = feat_info_1[feat_info_1['type'] == 'mixed']['attribute'].values"
   ]
  },
  {
   "cell_type": "code",
   "execution_count": 29,
   "metadata": {},
   "outputs": [
    {
     "data": {
      "text/html": [
       "<div>\n",
       "<style scoped>\n",
       "    .dataframe tbody tr th:only-of-type {\n",
       "        vertical-align: middle;\n",
       "    }\n",
       "\n",
       "    .dataframe tbody tr th {\n",
       "        vertical-align: top;\n",
       "    }\n",
       "\n",
       "    .dataframe thead th {\n",
       "        text-align: right;\n",
       "    }\n",
       "</style>\n",
       "<table border=\"1\" class=\"dataframe\">\n",
       "  <thead>\n",
       "    <tr style=\"text-align: right;\">\n",
       "      <th></th>\n",
       "      <th>Unique Values</th>\n",
       "    </tr>\n",
       "  </thead>\n",
       "  <tbody>\n",
       "    <tr>\n",
       "      <th>ANREDE_KZ</th>\n",
       "      <td>2</td>\n",
       "    </tr>\n",
       "    <tr>\n",
       "      <th>CJT_GESAMTTYP</th>\n",
       "      <td>6</td>\n",
       "    </tr>\n",
       "    <tr>\n",
       "      <th>FINANZTYP</th>\n",
       "      <td>6</td>\n",
       "    </tr>\n",
       "    <tr>\n",
       "      <th>GFK_URLAUBERTYP</th>\n",
       "      <td>12</td>\n",
       "    </tr>\n",
       "    <tr>\n",
       "      <th>GREEN_AVANTGARDE</th>\n",
       "      <td>2</td>\n",
       "    </tr>\n",
       "    <tr>\n",
       "      <th>LP_FAMILIE_FEIN</th>\n",
       "      <td>12</td>\n",
       "    </tr>\n",
       "    <tr>\n",
       "      <th>LP_FAMILIE_GROB</th>\n",
       "      <td>6</td>\n",
       "    </tr>\n",
       "    <tr>\n",
       "      <th>LP_STATUS_FEIN</th>\n",
       "      <td>10</td>\n",
       "    </tr>\n",
       "    <tr>\n",
       "      <th>LP_STATUS_GROB</th>\n",
       "      <td>5</td>\n",
       "    </tr>\n",
       "    <tr>\n",
       "      <th>NATIONALITAET_KZ</th>\n",
       "      <td>3</td>\n",
       "    </tr>\n",
       "    <tr>\n",
       "      <th>SHOPPER_TYP</th>\n",
       "      <td>4</td>\n",
       "    </tr>\n",
       "    <tr>\n",
       "      <th>SOHO_KZ</th>\n",
       "      <td>2</td>\n",
       "    </tr>\n",
       "    <tr>\n",
       "      <th>TITEL_KZ</th>\n",
       "      <td>6</td>\n",
       "    </tr>\n",
       "    <tr>\n",
       "      <th>VERS_TYP</th>\n",
       "      <td>2</td>\n",
       "    </tr>\n",
       "    <tr>\n",
       "      <th>ZABEOTYP</th>\n",
       "      <td>6</td>\n",
       "    </tr>\n",
       "    <tr>\n",
       "      <th>GEBAEUDETYP</th>\n",
       "      <td>7</td>\n",
       "    </tr>\n",
       "    <tr>\n",
       "      <th>OST_WEST_KZ</th>\n",
       "      <td>2</td>\n",
       "    </tr>\n",
       "    <tr>\n",
       "      <th>CAMEO_DEUG_2015</th>\n",
       "      <td>9</td>\n",
       "    </tr>\n",
       "    <tr>\n",
       "      <th>CAMEO_DEU_2015</th>\n",
       "      <td>44</td>\n",
       "    </tr>\n",
       "  </tbody>\n",
       "</table>\n",
       "</div>"
      ],
      "text/plain": [
       "                  Unique Values\n",
       "ANREDE_KZ                     2\n",
       "CJT_GESAMTTYP                 6\n",
       "FINANZTYP                     6\n",
       "GFK_URLAUBERTYP              12\n",
       "GREEN_AVANTGARDE              2\n",
       "LP_FAMILIE_FEIN              12\n",
       "LP_FAMILIE_GROB               6\n",
       "LP_STATUS_FEIN               10\n",
       "LP_STATUS_GROB                5\n",
       "NATIONALITAET_KZ              3\n",
       "SHOPPER_TYP                   4\n",
       "SOHO_KZ                       2\n",
       "TITEL_KZ                      6\n",
       "VERS_TYP                      2\n",
       "ZABEOTYP                      6\n",
       "GEBAEUDETYP                   7\n",
       "OST_WEST_KZ                   2\n",
       "CAMEO_DEUG_2015               9\n",
       "CAMEO_DEU_2015               44"
      ]
     },
     "metadata": {},
     "output_type": "display_data"
    }
   ],
   "source": [
    "display(categorical_values)"
   ]
  },
  {
   "cell_type": "markdown",
   "metadata": {},
   "source": [
    "#### 🔴Extract Binary & Multi-Level Categorical Features"
   ]
  },
  {
   "cell_type": "code",
   "execution_count": 30,
   "metadata": {},
   "outputs": [],
   "source": [
    "binary_categorical = categorical_values[categorical_values['Unique Values'] == 2]\n",
    "multi_categorical = categorical_values[categorical_values['Unique Values'] > 2]"
   ]
  },
  {
   "cell_type": "code",
   "execution_count": 31,
   "metadata": {},
   "outputs": [
    {
     "name": "stdout",
     "output_type": "stream",
     "text": [
      "There are 5 binary categorical features and 14 multi-level categorical features.\n",
      "\n",
      "Binary:\n",
      "\n"
     ]
    },
    {
     "data": {
      "text/html": [
       "<div>\n",
       "<style scoped>\n",
       "    .dataframe tbody tr th:only-of-type {\n",
       "        vertical-align: middle;\n",
       "    }\n",
       "\n",
       "    .dataframe tbody tr th {\n",
       "        vertical-align: top;\n",
       "    }\n",
       "\n",
       "    .dataframe thead th {\n",
       "        text-align: right;\n",
       "    }\n",
       "</style>\n",
       "<table border=\"1\" class=\"dataframe\">\n",
       "  <thead>\n",
       "    <tr style=\"text-align: right;\">\n",
       "      <th></th>\n",
       "      <th>Unique Values</th>\n",
       "    </tr>\n",
       "  </thead>\n",
       "  <tbody>\n",
       "    <tr>\n",
       "      <th>ANREDE_KZ</th>\n",
       "      <td>2</td>\n",
       "    </tr>\n",
       "    <tr>\n",
       "      <th>GREEN_AVANTGARDE</th>\n",
       "      <td>2</td>\n",
       "    </tr>\n",
       "    <tr>\n",
       "      <th>SOHO_KZ</th>\n",
       "      <td>2</td>\n",
       "    </tr>\n",
       "    <tr>\n",
       "      <th>VERS_TYP</th>\n",
       "      <td>2</td>\n",
       "    </tr>\n",
       "    <tr>\n",
       "      <th>OST_WEST_KZ</th>\n",
       "      <td>2</td>\n",
       "    </tr>\n",
       "  </tbody>\n",
       "</table>\n",
       "</div>"
      ],
      "text/plain": [
       "                  Unique Values\n",
       "ANREDE_KZ                     2\n",
       "GREEN_AVANTGARDE              2\n",
       "SOHO_KZ                       2\n",
       "VERS_TYP                      2\n",
       "OST_WEST_KZ                   2"
      ]
     },
     "metadata": {},
     "output_type": "display_data"
    },
    {
     "name": "stdout",
     "output_type": "stream",
     "text": [
      "Multi-Level:\n",
      "\n"
     ]
    },
    {
     "data": {
      "text/html": [
       "<div>\n",
       "<style scoped>\n",
       "    .dataframe tbody tr th:only-of-type {\n",
       "        vertical-align: middle;\n",
       "    }\n",
       "\n",
       "    .dataframe tbody tr th {\n",
       "        vertical-align: top;\n",
       "    }\n",
       "\n",
       "    .dataframe thead th {\n",
       "        text-align: right;\n",
       "    }\n",
       "</style>\n",
       "<table border=\"1\" class=\"dataframe\">\n",
       "  <thead>\n",
       "    <tr style=\"text-align: right;\">\n",
       "      <th></th>\n",
       "      <th>Unique Values</th>\n",
       "    </tr>\n",
       "  </thead>\n",
       "  <tbody>\n",
       "    <tr>\n",
       "      <th>CJT_GESAMTTYP</th>\n",
       "      <td>6</td>\n",
       "    </tr>\n",
       "    <tr>\n",
       "      <th>FINANZTYP</th>\n",
       "      <td>6</td>\n",
       "    </tr>\n",
       "    <tr>\n",
       "      <th>GFK_URLAUBERTYP</th>\n",
       "      <td>12</td>\n",
       "    </tr>\n",
       "    <tr>\n",
       "      <th>LP_FAMILIE_FEIN</th>\n",
       "      <td>12</td>\n",
       "    </tr>\n",
       "    <tr>\n",
       "      <th>LP_FAMILIE_GROB</th>\n",
       "      <td>6</td>\n",
       "    </tr>\n",
       "    <tr>\n",
       "      <th>LP_STATUS_FEIN</th>\n",
       "      <td>10</td>\n",
       "    </tr>\n",
       "    <tr>\n",
       "      <th>LP_STATUS_GROB</th>\n",
       "      <td>5</td>\n",
       "    </tr>\n",
       "    <tr>\n",
       "      <th>NATIONALITAET_KZ</th>\n",
       "      <td>3</td>\n",
       "    </tr>\n",
       "    <tr>\n",
       "      <th>SHOPPER_TYP</th>\n",
       "      <td>4</td>\n",
       "    </tr>\n",
       "    <tr>\n",
       "      <th>TITEL_KZ</th>\n",
       "      <td>6</td>\n",
       "    </tr>\n",
       "    <tr>\n",
       "      <th>ZABEOTYP</th>\n",
       "      <td>6</td>\n",
       "    </tr>\n",
       "    <tr>\n",
       "      <th>GEBAEUDETYP</th>\n",
       "      <td>7</td>\n",
       "    </tr>\n",
       "    <tr>\n",
       "      <th>CAMEO_DEUG_2015</th>\n",
       "      <td>9</td>\n",
       "    </tr>\n",
       "    <tr>\n",
       "      <th>CAMEO_DEU_2015</th>\n",
       "      <td>44</td>\n",
       "    </tr>\n",
       "  </tbody>\n",
       "</table>\n",
       "</div>"
      ],
      "text/plain": [
       "                  Unique Values\n",
       "CJT_GESAMTTYP                 6\n",
       "FINANZTYP                     6\n",
       "GFK_URLAUBERTYP              12\n",
       "LP_FAMILIE_FEIN              12\n",
       "LP_FAMILIE_GROB               6\n",
       "LP_STATUS_FEIN               10\n",
       "LP_STATUS_GROB                5\n",
       "NATIONALITAET_KZ              3\n",
       "SHOPPER_TYP                   4\n",
       "TITEL_KZ                      6\n",
       "ZABEOTYP                      6\n",
       "GEBAEUDETYP                   7\n",
       "CAMEO_DEUG_2015               9\n",
       "CAMEO_DEU_2015               44"
      ]
     },
     "metadata": {},
     "output_type": "display_data"
    }
   ],
   "source": [
    "print('There are {} binary categorical features and {} multi-level categorical features.\\n'.format(len(binary_categorical), len(categorical)-len(binary_categorical)))\n",
    "print('Binary:\\n')\n",
    "display(binary_categorical)\n",
    "print('Multi-Level:\\n')\n",
    "display(multi_categorical)"
   ]
  },
  {
   "cell_type": "markdown",
   "metadata": {},
   "source": [
    "#### 🔴Extract Numerical & Non-numerical Features"
   ]
  },
  {
   "cell_type": "code",
   "execution_count": 32,
   "metadata": {},
   "outputs": [
    {
     "name": "stdout",
     "output_type": "stream",
     "text": [
      "Checks out\n"
     ]
    }
   ],
   "source": [
    "numerical = []\n",
    "non_numerical = []\n",
    "\n",
    "for i, dtype in zip(feat_info_1.index, azdias_1.dtypes):\n",
    "    if dtype == object:\n",
    "        non_numerical.append(feat_info_1['attribute'][i])\n",
    "    else:\n",
    "        numerical.append(feat_info_1['attribute'][i])\n",
    "        \n",
    "# Check if dimensions check out with original dataset\n",
    "if (len(numerical) + len(non_numerical)) == azdias_1.shape[1]:\n",
    "    print('Checks out')\n",
    "else:\n",
    "    print('Something\\'s wrong')"
   ]
  },
  {
   "cell_type": "code",
   "execution_count": 33,
   "metadata": {},
   "outputs": [
    {
     "name": "stdout",
     "output_type": "stream",
     "text": [
      "OST_WEST_KZ is non-numerical!\n"
     ]
    }
   ],
   "source": [
    "# Check if all binary categoricals are numericals\n",
    "for feature in binary_categorical.index:\n",
    "    if feature in non_numerical:\n",
    "        print('{} is non-numerical!'.format(feature))"
   ]
  },
  {
   "cell_type": "markdown",
   "metadata": {},
   "source": [
    "#### 🔴Encode OST_WEST_KZ"
   ]
  },
  {
   "cell_type": "code",
   "execution_count": 34,
   "metadata": {},
   "outputs": [],
   "source": [
    "azdias_2[\"OST_WEST_KZ\"] = azdias_2[\"OST_WEST_KZ\"].map({\"W\": 1, \"O\": 2}, na_action=\"ignore\")"
   ]
  },
  {
   "cell_type": "markdown",
   "metadata": {},
   "source": [
    "#### 🔴Examine Correlation between multi-level features to determine which are safe to remove"
   ]
  },
  {
   "cell_type": "code",
   "execution_count": 35,
   "metadata": {},
   "outputs": [
    {
     "data": {
      "text/html": [
       "<div>\n",
       "<style scoped>\n",
       "    .dataframe tbody tr th:only-of-type {\n",
       "        vertical-align: middle;\n",
       "    }\n",
       "\n",
       "    .dataframe tbody tr th {\n",
       "        vertical-align: top;\n",
       "    }\n",
       "\n",
       "    .dataframe thead th {\n",
       "        text-align: right;\n",
       "    }\n",
       "</style>\n",
       "<table border=\"1\" class=\"dataframe\">\n",
       "  <thead>\n",
       "    <tr style=\"text-align: right;\">\n",
       "      <th></th>\n",
       "      <th>CJT_GESAMTTYP</th>\n",
       "      <th>FINANZTYP</th>\n",
       "      <th>GFK_URLAUBERTYP</th>\n",
       "      <th>LP_FAMILIE_FEIN</th>\n",
       "      <th>LP_FAMILIE_GROB</th>\n",
       "      <th>LP_STATUS_FEIN</th>\n",
       "      <th>LP_STATUS_GROB</th>\n",
       "      <th>NATIONALITAET_KZ</th>\n",
       "      <th>SHOPPER_TYP</th>\n",
       "      <th>TITEL_KZ</th>\n",
       "      <th>ZABEOTYP</th>\n",
       "      <th>GEBAEUDETYP</th>\n",
       "    </tr>\n",
       "  </thead>\n",
       "  <tbody>\n",
       "    <tr>\n",
       "      <th>CJT_GESAMTTYP</th>\n",
       "      <td>1.0</td>\n",
       "      <td>NaN</td>\n",
       "      <td>NaN</td>\n",
       "      <td>NaN</td>\n",
       "      <td>NaN</td>\n",
       "      <td>NaN</td>\n",
       "      <td>NaN</td>\n",
       "      <td>NaN</td>\n",
       "      <td>NaN</td>\n",
       "      <td>NaN</td>\n",
       "      <td>NaN</td>\n",
       "      <td>NaN</td>\n",
       "    </tr>\n",
       "    <tr>\n",
       "      <th>FINANZTYP</th>\n",
       "      <td>NaN</td>\n",
       "      <td>1.0</td>\n",
       "      <td>NaN</td>\n",
       "      <td>NaN</td>\n",
       "      <td>NaN</td>\n",
       "      <td>NaN</td>\n",
       "      <td>NaN</td>\n",
       "      <td>NaN</td>\n",
       "      <td>NaN</td>\n",
       "      <td>NaN</td>\n",
       "      <td>NaN</td>\n",
       "      <td>NaN</td>\n",
       "    </tr>\n",
       "    <tr>\n",
       "      <th>GFK_URLAUBERTYP</th>\n",
       "      <td>NaN</td>\n",
       "      <td>NaN</td>\n",
       "      <td>1.0</td>\n",
       "      <td>NaN</td>\n",
       "      <td>NaN</td>\n",
       "      <td>NaN</td>\n",
       "      <td>NaN</td>\n",
       "      <td>NaN</td>\n",
       "      <td>NaN</td>\n",
       "      <td>NaN</td>\n",
       "      <td>NaN</td>\n",
       "      <td>NaN</td>\n",
       "    </tr>\n",
       "    <tr>\n",
       "      <th>LP_FAMILIE_FEIN</th>\n",
       "      <td>NaN</td>\n",
       "      <td>NaN</td>\n",
       "      <td>NaN</td>\n",
       "      <td>1.000000</td>\n",
       "      <td>0.986208</td>\n",
       "      <td>NaN</td>\n",
       "      <td>NaN</td>\n",
       "      <td>NaN</td>\n",
       "      <td>NaN</td>\n",
       "      <td>NaN</td>\n",
       "      <td>NaN</td>\n",
       "      <td>NaN</td>\n",
       "    </tr>\n",
       "    <tr>\n",
       "      <th>LP_FAMILIE_GROB</th>\n",
       "      <td>NaN</td>\n",
       "      <td>NaN</td>\n",
       "      <td>NaN</td>\n",
       "      <td>0.986208</td>\n",
       "      <td>1.000000</td>\n",
       "      <td>NaN</td>\n",
       "      <td>NaN</td>\n",
       "      <td>NaN</td>\n",
       "      <td>NaN</td>\n",
       "      <td>NaN</td>\n",
       "      <td>NaN</td>\n",
       "      <td>NaN</td>\n",
       "    </tr>\n",
       "    <tr>\n",
       "      <th>LP_STATUS_FEIN</th>\n",
       "      <td>NaN</td>\n",
       "      <td>NaN</td>\n",
       "      <td>NaN</td>\n",
       "      <td>NaN</td>\n",
       "      <td>NaN</td>\n",
       "      <td>1.000000</td>\n",
       "      <td>0.985804</td>\n",
       "      <td>NaN</td>\n",
       "      <td>NaN</td>\n",
       "      <td>NaN</td>\n",
       "      <td>NaN</td>\n",
       "      <td>NaN</td>\n",
       "    </tr>\n",
       "    <tr>\n",
       "      <th>LP_STATUS_GROB</th>\n",
       "      <td>NaN</td>\n",
       "      <td>NaN</td>\n",
       "      <td>NaN</td>\n",
       "      <td>NaN</td>\n",
       "      <td>NaN</td>\n",
       "      <td>0.985804</td>\n",
       "      <td>1.000000</td>\n",
       "      <td>NaN</td>\n",
       "      <td>NaN</td>\n",
       "      <td>NaN</td>\n",
       "      <td>NaN</td>\n",
       "      <td>NaN</td>\n",
       "    </tr>\n",
       "    <tr>\n",
       "      <th>NATIONALITAET_KZ</th>\n",
       "      <td>NaN</td>\n",
       "      <td>NaN</td>\n",
       "      <td>NaN</td>\n",
       "      <td>NaN</td>\n",
       "      <td>NaN</td>\n",
       "      <td>NaN</td>\n",
       "      <td>NaN</td>\n",
       "      <td>1.0</td>\n",
       "      <td>NaN</td>\n",
       "      <td>NaN</td>\n",
       "      <td>NaN</td>\n",
       "      <td>NaN</td>\n",
       "    </tr>\n",
       "    <tr>\n",
       "      <th>SHOPPER_TYP</th>\n",
       "      <td>NaN</td>\n",
       "      <td>NaN</td>\n",
       "      <td>NaN</td>\n",
       "      <td>NaN</td>\n",
       "      <td>NaN</td>\n",
       "      <td>NaN</td>\n",
       "      <td>NaN</td>\n",
       "      <td>NaN</td>\n",
       "      <td>1.0</td>\n",
       "      <td>NaN</td>\n",
       "      <td>NaN</td>\n",
       "      <td>NaN</td>\n",
       "    </tr>\n",
       "    <tr>\n",
       "      <th>TITEL_KZ</th>\n",
       "      <td>NaN</td>\n",
       "      <td>NaN</td>\n",
       "      <td>NaN</td>\n",
       "      <td>NaN</td>\n",
       "      <td>NaN</td>\n",
       "      <td>NaN</td>\n",
       "      <td>NaN</td>\n",
       "      <td>NaN</td>\n",
       "      <td>NaN</td>\n",
       "      <td>1.0</td>\n",
       "      <td>NaN</td>\n",
       "      <td>NaN</td>\n",
       "    </tr>\n",
       "    <tr>\n",
       "      <th>ZABEOTYP</th>\n",
       "      <td>NaN</td>\n",
       "      <td>NaN</td>\n",
       "      <td>NaN</td>\n",
       "      <td>NaN</td>\n",
       "      <td>NaN</td>\n",
       "      <td>NaN</td>\n",
       "      <td>NaN</td>\n",
       "      <td>NaN</td>\n",
       "      <td>NaN</td>\n",
       "      <td>NaN</td>\n",
       "      <td>1.0</td>\n",
       "      <td>NaN</td>\n",
       "    </tr>\n",
       "    <tr>\n",
       "      <th>GEBAEUDETYP</th>\n",
       "      <td>NaN</td>\n",
       "      <td>NaN</td>\n",
       "      <td>NaN</td>\n",
       "      <td>NaN</td>\n",
       "      <td>NaN</td>\n",
       "      <td>NaN</td>\n",
       "      <td>NaN</td>\n",
       "      <td>NaN</td>\n",
       "      <td>NaN</td>\n",
       "      <td>NaN</td>\n",
       "      <td>NaN</td>\n",
       "      <td>1.0</td>\n",
       "    </tr>\n",
       "  </tbody>\n",
       "</table>\n",
       "</div>"
      ],
      "text/plain": [
       "                  CJT_GESAMTTYP  FINANZTYP  GFK_URLAUBERTYP  LP_FAMILIE_FEIN  \\\n",
       "CJT_GESAMTTYP               1.0        NaN              NaN              NaN   \n",
       "FINANZTYP                   NaN        1.0              NaN              NaN   \n",
       "GFK_URLAUBERTYP             NaN        NaN              1.0              NaN   \n",
       "LP_FAMILIE_FEIN             NaN        NaN              NaN         1.000000   \n",
       "LP_FAMILIE_GROB             NaN        NaN              NaN         0.986208   \n",
       "LP_STATUS_FEIN              NaN        NaN              NaN              NaN   \n",
       "LP_STATUS_GROB              NaN        NaN              NaN              NaN   \n",
       "NATIONALITAET_KZ            NaN        NaN              NaN              NaN   \n",
       "SHOPPER_TYP                 NaN        NaN              NaN              NaN   \n",
       "TITEL_KZ                    NaN        NaN              NaN              NaN   \n",
       "ZABEOTYP                    NaN        NaN              NaN              NaN   \n",
       "GEBAEUDETYP                 NaN        NaN              NaN              NaN   \n",
       "\n",
       "                  LP_FAMILIE_GROB  LP_STATUS_FEIN  LP_STATUS_GROB  \\\n",
       "CJT_GESAMTTYP                 NaN             NaN             NaN   \n",
       "FINANZTYP                     NaN             NaN             NaN   \n",
       "GFK_URLAUBERTYP               NaN             NaN             NaN   \n",
       "LP_FAMILIE_FEIN          0.986208             NaN             NaN   \n",
       "LP_FAMILIE_GROB          1.000000             NaN             NaN   \n",
       "LP_STATUS_FEIN                NaN        1.000000        0.985804   \n",
       "LP_STATUS_GROB                NaN        0.985804        1.000000   \n",
       "NATIONALITAET_KZ              NaN             NaN             NaN   \n",
       "SHOPPER_TYP                   NaN             NaN             NaN   \n",
       "TITEL_KZ                      NaN             NaN             NaN   \n",
       "ZABEOTYP                      NaN             NaN             NaN   \n",
       "GEBAEUDETYP                   NaN             NaN             NaN   \n",
       "\n",
       "                  NATIONALITAET_KZ  SHOPPER_TYP  TITEL_KZ  ZABEOTYP  \\\n",
       "CJT_GESAMTTYP                  NaN          NaN       NaN       NaN   \n",
       "FINANZTYP                      NaN          NaN       NaN       NaN   \n",
       "GFK_URLAUBERTYP                NaN          NaN       NaN       NaN   \n",
       "LP_FAMILIE_FEIN                NaN          NaN       NaN       NaN   \n",
       "LP_FAMILIE_GROB                NaN          NaN       NaN       NaN   \n",
       "LP_STATUS_FEIN                 NaN          NaN       NaN       NaN   \n",
       "LP_STATUS_GROB                 NaN          NaN       NaN       NaN   \n",
       "NATIONALITAET_KZ               1.0          NaN       NaN       NaN   \n",
       "SHOPPER_TYP                    NaN          1.0       NaN       NaN   \n",
       "TITEL_KZ                       NaN          NaN       1.0       NaN   \n",
       "ZABEOTYP                       NaN          NaN       NaN       1.0   \n",
       "GEBAEUDETYP                    NaN          NaN       NaN       NaN   \n",
       "\n",
       "                  GEBAEUDETYP  \n",
       "CJT_GESAMTTYP             NaN  \n",
       "FINANZTYP                 NaN  \n",
       "GFK_URLAUBERTYP           NaN  \n",
       "LP_FAMILIE_FEIN           NaN  \n",
       "LP_FAMILIE_GROB           NaN  \n",
       "LP_STATUS_FEIN            NaN  \n",
       "LP_STATUS_GROB            NaN  \n",
       "NATIONALITAET_KZ          NaN  \n",
       "SHOPPER_TYP               NaN  \n",
       "TITEL_KZ                  NaN  \n",
       "ZABEOTYP                  NaN  \n",
       "GEBAEUDETYP               1.0  "
      ]
     },
     "metadata": {},
     "output_type": "display_data"
    }
   ],
   "source": [
    "multilevel = pd.DataFrame(azdias_2[multi_categorical.index])\n",
    "corr = multilevel.corr()\n",
    "display(corr[corr > 0.8])\n"
   ]
  },
  {
   "cell_type": "code",
   "execution_count": 36,
   "metadata": {},
   "outputs": [
    {
     "data": {
      "text/html": [
       "<div>\n",
       "<style scoped>\n",
       "    .dataframe tbody tr th:only-of-type {\n",
       "        vertical-align: middle;\n",
       "    }\n",
       "\n",
       "    .dataframe tbody tr th {\n",
       "        vertical-align: top;\n",
       "    }\n",
       "\n",
       "    .dataframe thead th {\n",
       "        text-align: right;\n",
       "    }\n",
       "</style>\n",
       "<table border=\"1\" class=\"dataframe\">\n",
       "  <thead>\n",
       "    <tr style=\"text-align: right;\">\n",
       "      <th></th>\n",
       "      <th>CJT_GESAMTTYP</th>\n",
       "      <th>FINANZTYP</th>\n",
       "      <th>GFK_URLAUBERTYP</th>\n",
       "      <th>LP_FAMILIE_FEIN</th>\n",
       "      <th>LP_FAMILIE_GROB</th>\n",
       "      <th>LP_STATUS_FEIN</th>\n",
       "      <th>LP_STATUS_GROB</th>\n",
       "      <th>NATIONALITAET_KZ</th>\n",
       "      <th>SHOPPER_TYP</th>\n",
       "      <th>TITEL_KZ</th>\n",
       "      <th>ZABEOTYP</th>\n",
       "      <th>GEBAEUDETYP</th>\n",
       "    </tr>\n",
       "  </thead>\n",
       "  <tbody>\n",
       "    <tr>\n",
       "      <th>CJT_GESAMTTYP</th>\n",
       "      <td>NaN</td>\n",
       "      <td>NaN</td>\n",
       "      <td>NaN</td>\n",
       "      <td>NaN</td>\n",
       "      <td>NaN</td>\n",
       "      <td>NaN</td>\n",
       "      <td>NaN</td>\n",
       "      <td>NaN</td>\n",
       "      <td>NaN</td>\n",
       "      <td>NaN</td>\n",
       "      <td>NaN</td>\n",
       "      <td>NaN</td>\n",
       "    </tr>\n",
       "    <tr>\n",
       "      <th>FINANZTYP</th>\n",
       "      <td>NaN</td>\n",
       "      <td>NaN</td>\n",
       "      <td>NaN</td>\n",
       "      <td>NaN</td>\n",
       "      <td>NaN</td>\n",
       "      <td>NaN</td>\n",
       "      <td>NaN</td>\n",
       "      <td>NaN</td>\n",
       "      <td>NaN</td>\n",
       "      <td>NaN</td>\n",
       "      <td>NaN</td>\n",
       "      <td>NaN</td>\n",
       "    </tr>\n",
       "    <tr>\n",
       "      <th>GFK_URLAUBERTYP</th>\n",
       "      <td>NaN</td>\n",
       "      <td>NaN</td>\n",
       "      <td>NaN</td>\n",
       "      <td>NaN</td>\n",
       "      <td>NaN</td>\n",
       "      <td>NaN</td>\n",
       "      <td>NaN</td>\n",
       "      <td>NaN</td>\n",
       "      <td>NaN</td>\n",
       "      <td>NaN</td>\n",
       "      <td>NaN</td>\n",
       "      <td>NaN</td>\n",
       "    </tr>\n",
       "    <tr>\n",
       "      <th>LP_FAMILIE_FEIN</th>\n",
       "      <td>NaN</td>\n",
       "      <td>NaN</td>\n",
       "      <td>NaN</td>\n",
       "      <td>NaN</td>\n",
       "      <td>NaN</td>\n",
       "      <td>NaN</td>\n",
       "      <td>NaN</td>\n",
       "      <td>NaN</td>\n",
       "      <td>NaN</td>\n",
       "      <td>NaN</td>\n",
       "      <td>NaN</td>\n",
       "      <td>NaN</td>\n",
       "    </tr>\n",
       "    <tr>\n",
       "      <th>LP_FAMILIE_GROB</th>\n",
       "      <td>NaN</td>\n",
       "      <td>NaN</td>\n",
       "      <td>NaN</td>\n",
       "      <td>NaN</td>\n",
       "      <td>NaN</td>\n",
       "      <td>NaN</td>\n",
       "      <td>NaN</td>\n",
       "      <td>NaN</td>\n",
       "      <td>NaN</td>\n",
       "      <td>NaN</td>\n",
       "      <td>NaN</td>\n",
       "      <td>NaN</td>\n",
       "    </tr>\n",
       "    <tr>\n",
       "      <th>LP_STATUS_FEIN</th>\n",
       "      <td>NaN</td>\n",
       "      <td>NaN</td>\n",
       "      <td>NaN</td>\n",
       "      <td>NaN</td>\n",
       "      <td>NaN</td>\n",
       "      <td>NaN</td>\n",
       "      <td>NaN</td>\n",
       "      <td>NaN</td>\n",
       "      <td>NaN</td>\n",
       "      <td>NaN</td>\n",
       "      <td>NaN</td>\n",
       "      <td>NaN</td>\n",
       "    </tr>\n",
       "    <tr>\n",
       "      <th>LP_STATUS_GROB</th>\n",
       "      <td>NaN</td>\n",
       "      <td>NaN</td>\n",
       "      <td>NaN</td>\n",
       "      <td>NaN</td>\n",
       "      <td>NaN</td>\n",
       "      <td>NaN</td>\n",
       "      <td>NaN</td>\n",
       "      <td>NaN</td>\n",
       "      <td>NaN</td>\n",
       "      <td>NaN</td>\n",
       "      <td>NaN</td>\n",
       "      <td>NaN</td>\n",
       "    </tr>\n",
       "    <tr>\n",
       "      <th>NATIONALITAET_KZ</th>\n",
       "      <td>NaN</td>\n",
       "      <td>NaN</td>\n",
       "      <td>NaN</td>\n",
       "      <td>NaN</td>\n",
       "      <td>NaN</td>\n",
       "      <td>NaN</td>\n",
       "      <td>NaN</td>\n",
       "      <td>NaN</td>\n",
       "      <td>NaN</td>\n",
       "      <td>NaN</td>\n",
       "      <td>NaN</td>\n",
       "      <td>NaN</td>\n",
       "    </tr>\n",
       "    <tr>\n",
       "      <th>SHOPPER_TYP</th>\n",
       "      <td>NaN</td>\n",
       "      <td>NaN</td>\n",
       "      <td>NaN</td>\n",
       "      <td>NaN</td>\n",
       "      <td>NaN</td>\n",
       "      <td>NaN</td>\n",
       "      <td>NaN</td>\n",
       "      <td>NaN</td>\n",
       "      <td>NaN</td>\n",
       "      <td>NaN</td>\n",
       "      <td>NaN</td>\n",
       "      <td>NaN</td>\n",
       "    </tr>\n",
       "    <tr>\n",
       "      <th>TITEL_KZ</th>\n",
       "      <td>NaN</td>\n",
       "      <td>NaN</td>\n",
       "      <td>NaN</td>\n",
       "      <td>NaN</td>\n",
       "      <td>NaN</td>\n",
       "      <td>NaN</td>\n",
       "      <td>NaN</td>\n",
       "      <td>NaN</td>\n",
       "      <td>NaN</td>\n",
       "      <td>NaN</td>\n",
       "      <td>NaN</td>\n",
       "      <td>NaN</td>\n",
       "    </tr>\n",
       "    <tr>\n",
       "      <th>ZABEOTYP</th>\n",
       "      <td>NaN</td>\n",
       "      <td>NaN</td>\n",
       "      <td>NaN</td>\n",
       "      <td>NaN</td>\n",
       "      <td>NaN</td>\n",
       "      <td>NaN</td>\n",
       "      <td>NaN</td>\n",
       "      <td>NaN</td>\n",
       "      <td>NaN</td>\n",
       "      <td>NaN</td>\n",
       "      <td>NaN</td>\n",
       "      <td>NaN</td>\n",
       "    </tr>\n",
       "    <tr>\n",
       "      <th>GEBAEUDETYP</th>\n",
       "      <td>NaN</td>\n",
       "      <td>NaN</td>\n",
       "      <td>NaN</td>\n",
       "      <td>NaN</td>\n",
       "      <td>NaN</td>\n",
       "      <td>NaN</td>\n",
       "      <td>NaN</td>\n",
       "      <td>NaN</td>\n",
       "      <td>NaN</td>\n",
       "      <td>NaN</td>\n",
       "      <td>NaN</td>\n",
       "      <td>NaN</td>\n",
       "    </tr>\n",
       "  </tbody>\n",
       "</table>\n",
       "</div>"
      ],
      "text/plain": [
       "                  CJT_GESAMTTYP  FINANZTYP  GFK_URLAUBERTYP  LP_FAMILIE_FEIN  \\\n",
       "CJT_GESAMTTYP               NaN        NaN              NaN              NaN   \n",
       "FINANZTYP                   NaN        NaN              NaN              NaN   \n",
       "GFK_URLAUBERTYP             NaN        NaN              NaN              NaN   \n",
       "LP_FAMILIE_FEIN             NaN        NaN              NaN              NaN   \n",
       "LP_FAMILIE_GROB             NaN        NaN              NaN              NaN   \n",
       "LP_STATUS_FEIN              NaN        NaN              NaN              NaN   \n",
       "LP_STATUS_GROB              NaN        NaN              NaN              NaN   \n",
       "NATIONALITAET_KZ            NaN        NaN              NaN              NaN   \n",
       "SHOPPER_TYP                 NaN        NaN              NaN              NaN   \n",
       "TITEL_KZ                    NaN        NaN              NaN              NaN   \n",
       "ZABEOTYP                    NaN        NaN              NaN              NaN   \n",
       "GEBAEUDETYP                 NaN        NaN              NaN              NaN   \n",
       "\n",
       "                  LP_FAMILIE_GROB  LP_STATUS_FEIN  LP_STATUS_GROB  \\\n",
       "CJT_GESAMTTYP                 NaN             NaN             NaN   \n",
       "FINANZTYP                     NaN             NaN             NaN   \n",
       "GFK_URLAUBERTYP               NaN             NaN             NaN   \n",
       "LP_FAMILIE_FEIN               NaN             NaN             NaN   \n",
       "LP_FAMILIE_GROB               NaN             NaN             NaN   \n",
       "LP_STATUS_FEIN                NaN             NaN             NaN   \n",
       "LP_STATUS_GROB                NaN             NaN             NaN   \n",
       "NATIONALITAET_KZ              NaN             NaN             NaN   \n",
       "SHOPPER_TYP                   NaN             NaN             NaN   \n",
       "TITEL_KZ                      NaN             NaN             NaN   \n",
       "ZABEOTYP                      NaN             NaN             NaN   \n",
       "GEBAEUDETYP                   NaN             NaN             NaN   \n",
       "\n",
       "                  NATIONALITAET_KZ  SHOPPER_TYP  TITEL_KZ  ZABEOTYP  \\\n",
       "CJT_GESAMTTYP                  NaN          NaN       NaN       NaN   \n",
       "FINANZTYP                      NaN          NaN       NaN       NaN   \n",
       "GFK_URLAUBERTYP                NaN          NaN       NaN       NaN   \n",
       "LP_FAMILIE_FEIN                NaN          NaN       NaN       NaN   \n",
       "LP_FAMILIE_GROB                NaN          NaN       NaN       NaN   \n",
       "LP_STATUS_FEIN                 NaN          NaN       NaN       NaN   \n",
       "LP_STATUS_GROB                 NaN          NaN       NaN       NaN   \n",
       "NATIONALITAET_KZ               NaN          NaN       NaN       NaN   \n",
       "SHOPPER_TYP                    NaN          NaN       NaN       NaN   \n",
       "TITEL_KZ                       NaN          NaN       NaN       NaN   \n",
       "ZABEOTYP                       NaN          NaN       NaN       NaN   \n",
       "GEBAEUDETYP                    NaN          NaN       NaN       NaN   \n",
       "\n",
       "                  GEBAEUDETYP  \n",
       "CJT_GESAMTTYP             NaN  \n",
       "FINANZTYP                 NaN  \n",
       "GFK_URLAUBERTYP           NaN  \n",
       "LP_FAMILIE_FEIN           NaN  \n",
       "LP_FAMILIE_GROB           NaN  \n",
       "LP_STATUS_FEIN            NaN  \n",
       "LP_STATUS_GROB            NaN  \n",
       "NATIONALITAET_KZ          NaN  \n",
       "SHOPPER_TYP               NaN  \n",
       "TITEL_KZ                  NaN  \n",
       "ZABEOTYP                  NaN  \n",
       "GEBAEUDETYP               NaN  "
      ]
     },
     "metadata": {},
     "output_type": "display_data"
    }
   ],
   "source": [
    "display(corr[corr < -0.8])"
   ]
  },
  {
   "cell_type": "markdown",
   "metadata": {},
   "source": [
    "#### 🔴Drop Highly Correlated Multi-Level Features\n",
    "\n",
    "Since LP_FAMILIE_FEIN and LP_FAMILIE_GROB are very highly correlated, we drop LP_FAMILIE_GROB, the more complex one.\n",
    "\n",
    "We also drop LP_STATUS_FEIN due to its high correlation with LP_STATUS_GROB."
   ]
  },
  {
   "cell_type": "code",
   "execution_count": 37,
   "metadata": {},
   "outputs": [],
   "source": [
    "drop = ['LP_FAMILIE_GROB', 'LP_STATUS_FEIN']                  # Feature names to be dropped\n",
    "\n",
    "azdias_2 = azdias_2.drop(drop, axis=1)                        # Drop from azdias\n",
    "multi_categorical = multi_categorical.drop(drop, axis = 0)    # Drop from multilevel categoricals\n",
    "\n",
    "\n",
    "# drop_index = []                                               # Drop from feat_info\n",
    "# for i in range(feat_info_1.shape[0]):\n",
    "#     if feat_info_1['attribute'][i] in drop:\n",
    "#         drop_index.append(i)\n",
    "\n",
    "# feat_info_2 = feat_info_1.drop(drop_index, axis=0)\n",
    "# print('Dropped {} features.'.format(feat_info_1.shape[0] - feat_info_2.shape[0]))"
   ]
  },
  {
   "cell_type": "markdown",
   "metadata": {},
   "source": [
    "#### 🔴One-Hot Encode Multi-Level Categorical Features"
   ]
  },
  {
   "cell_type": "code",
   "execution_count": 38,
   "metadata": {},
   "outputs": [
    {
     "data": {
      "text/plain": [
       "CJT_GESAMTTYP       float64\n",
       "FINANZTYP             int64\n",
       "GFK_URLAUBERTYP     float64\n",
       "LP_FAMILIE_FEIN     float64\n",
       "LP_STATUS_GROB      float64\n",
       "NATIONALITAET_KZ    float64\n",
       "SHOPPER_TYP         float64\n",
       "TITEL_KZ            float64\n",
       "ZABEOTYP              int64\n",
       "GEBAEUDETYP         float64\n",
       "CAMEO_DEUG_2015      object\n",
       "CAMEO_DEU_2015       object\n",
       "dtype: object"
      ]
     },
     "execution_count": 38,
     "metadata": {},
     "output_type": "execute_result"
    }
   ],
   "source": [
    "multilevel_names = multi_categorical.index\n",
    "\n",
    "# Check datatypes\n",
    "azdias_2[multilevel_names].dtypes"
   ]
  },
  {
   "cell_type": "markdown",
   "metadata": {},
   "source": [
    "*In order to one-hot encode we will turn them into strings"
   ]
  },
  {
   "cell_type": "code",
   "execution_count": 39,
   "metadata": {},
   "outputs": [
    {
     "data": {
      "text/plain": [
       "Index(['CJT_GESAMTTYP', 'FINANZTYP', 'GFK_URLAUBERTYP', 'LP_FAMILIE_FEIN',\n",
       "       'LP_STATUS_GROB', 'NATIONALITAET_KZ', 'SHOPPER_TYP', 'TITEL_KZ',\n",
       "       'ZABEOTYP', 'GEBAEUDETYP', 'CAMEO_DEUG_2015', 'CAMEO_DEU_2015'],\n",
       "      dtype='object')"
      ]
     },
     "execution_count": 39,
     "metadata": {},
     "output_type": "execute_result"
    }
   ],
   "source": [
    "multilevel_names"
   ]
  },
  {
   "cell_type": "code",
   "execution_count": 40,
   "metadata": {},
   "outputs": [
    {
     "data": {
      "text/plain": [
       "1         1\n",
       "2         1\n",
       "3         6\n",
       "4         5\n",
       "5         2\n",
       "         ..\n",
       "891216    1\n",
       "891217    6\n",
       "891218    1\n",
       "891219    1\n",
       "891220    6\n",
       "Name: FINANZTYP, Length: 797950, dtype: int64"
      ]
     },
     "execution_count": 40,
     "metadata": {},
     "output_type": "execute_result"
    }
   ],
   "source": [
    "azdias_2['FINANZTYP']"
   ]
  },
  {
   "cell_type": "code",
   "execution_count": 41,
   "metadata": {},
   "outputs": [],
   "source": [
    "azdias_onehot = pd.get_dummies(azdias_2[multilevel_names].astype('str'))\n",
    "\n",
    "azdias_3 = azdias_2.drop(multilevel_names, axis=1)\n",
    "\n",
    "azdias_3 = pd.concat([azdias_3, azdias_onehot], axis=1)"
   ]
  },
  {
   "cell_type": "code",
   "execution_count": 42,
   "metadata": {},
   "outputs": [
    {
     "name": "stdout",
     "output_type": "stream",
     "text": [
      "One-hot encoding added 116 features. Total features: 196.\n"
     ]
    }
   ],
   "source": [
    "print('One-hot encoding added {} features. Total features: {}.'.format(azdias_3.shape[1]-azdias_2.shape[1], azdias_3.shape[1]))"
   ]
  },
  {
   "cell_type": "markdown",
   "metadata": {},
   "source": [
    "#### 🔴Remove NaN Columns"
   ]
  },
  {
   "cell_type": "code",
   "execution_count": 43,
   "metadata": {},
   "outputs": [
    {
     "name": "stdout",
     "output_type": "stream",
     "text": [
      "Total features: 188.\n"
     ]
    }
   ],
   "source": [
    "nan_columns = [column for column in azdias_3.columns.tolist() if column[-4:] == \"_nan\"]\n",
    "azdias_3 = azdias_3.drop(columns=nan_columns)\n",
    "\n",
    "print('Total features: {}.'.format(azdias_3.shape[1]))"
   ]
  },
  {
   "cell_type": "markdown",
   "metadata": {},
   "source": [
    "#### 🟡🟡🟡Discussion 1.2.1: Re-Encode Categorical Features\n",
    "\n",
    "In the analysis we found 5 binary and 14 multi-level categoricals. One of the binaries was non-numerical so it was engineered to contain numerical data. **All but two** multi-level categoricals were one-hot encoded to ensure that no potentially useful information is lost. \n",
    "\n",
    "(LP_FAMILIE_GROB and LP_STATUS_FEIN were dropped due to their high correlation (> 0.98) with LP_FAMILIE_FEIN and LP_STATUS_GROB respectively.)\n",
    "\n",
    "**One-Hot Encoding**\n",
    "\n",
    "Since we turned all one-hot encoding values into string before the encoding, for the columns that contained at least 1 NaN there was a \"nan\" dummy variable created. Sometimes, NaNs can be meaningful and hold valuable information, but here since no such pattern is obvious (and we already got a lot of data) we dropped the extra NaN columns."
   ]
  },
  {
   "cell_type": "markdown",
   "metadata": {},
   "source": [
    "#### 🔵Step 1.2.2: Engineer Mixed-Type Features\n",
    "\n",
    "There are a handful of features that are marked as \"mixed\" in the feature summary that require special treatment in order to be included in the analysis. There are two in particular that deserve attention; the handling of the rest are up to your own choices:\n",
    "- \"PRAEGENDE_JUGENDJAHRE\"\n",
    "- \"CAMEO_INTL_2015\" \n",
    "\n",
    "\n",
    "If you decide to keep or engineer new features around the other mixed-type features, make sure you note your steps in the Discussion section."
   ]
  },
  {
   "cell_type": "markdown",
   "metadata": {},
   "source": [
    "#### 🔴Define Function to engineer the two mixed features"
   ]
  },
  {
   "cell_type": "code",
   "execution_count": 44,
   "metadata": {},
   "outputs": [
    {
     "data": {
      "text/html": [
       "<div>\n",
       "<style scoped>\n",
       "    .dataframe tbody tr th:only-of-type {\n",
       "        vertical-align: middle;\n",
       "    }\n",
       "\n",
       "    .dataframe tbody tr th {\n",
       "        vertical-align: top;\n",
       "    }\n",
       "\n",
       "    .dataframe thead th {\n",
       "        text-align: right;\n",
       "    }\n",
       "</style>\n",
       "<table border=\"1\" class=\"dataframe\">\n",
       "  <thead>\n",
       "    <tr style=\"text-align: right;\">\n",
       "      <th></th>\n",
       "      <th>PRAEGENDE_JUGENDJAHRE</th>\n",
       "    </tr>\n",
       "  </thead>\n",
       "  <tbody>\n",
       "    <tr>\n",
       "      <th>1</th>\n",
       "      <td>14.0</td>\n",
       "    </tr>\n",
       "    <tr>\n",
       "      <th>2</th>\n",
       "      <td>15.0</td>\n",
       "    </tr>\n",
       "    <tr>\n",
       "      <th>3</th>\n",
       "      <td>8.0</td>\n",
       "    </tr>\n",
       "    <tr>\n",
       "      <th>4</th>\n",
       "      <td>8.0</td>\n",
       "    </tr>\n",
       "    <tr>\n",
       "      <th>5</th>\n",
       "      <td>3.0</td>\n",
       "    </tr>\n",
       "  </tbody>\n",
       "</table>\n",
       "</div>"
      ],
      "text/plain": [
       "   PRAEGENDE_JUGENDJAHRE\n",
       "1                   14.0\n",
       "2                   15.0\n",
       "3                    8.0\n",
       "4                    8.0\n",
       "5                    3.0"
      ]
     },
     "metadata": {},
     "output_type": "display_data"
    },
    {
     "data": {
      "text/html": [
       "<div>\n",
       "<style scoped>\n",
       "    .dataframe tbody tr th:only-of-type {\n",
       "        vertical-align: middle;\n",
       "    }\n",
       "\n",
       "    .dataframe tbody tr th {\n",
       "        vertical-align: top;\n",
       "    }\n",
       "\n",
       "    .dataframe thead th {\n",
       "        text-align: right;\n",
       "    }\n",
       "</style>\n",
       "<table border=\"1\" class=\"dataframe\">\n",
       "  <thead>\n",
       "    <tr style=\"text-align: right;\">\n",
       "      <th></th>\n",
       "      <th>CAMEO_INTL_2015</th>\n",
       "    </tr>\n",
       "  </thead>\n",
       "  <tbody>\n",
       "    <tr>\n",
       "      <th>1</th>\n",
       "      <td>51</td>\n",
       "    </tr>\n",
       "    <tr>\n",
       "      <th>2</th>\n",
       "      <td>24</td>\n",
       "    </tr>\n",
       "    <tr>\n",
       "      <th>3</th>\n",
       "      <td>12</td>\n",
       "    </tr>\n",
       "    <tr>\n",
       "      <th>4</th>\n",
       "      <td>43</td>\n",
       "    </tr>\n",
       "    <tr>\n",
       "      <th>5</th>\n",
       "      <td>54</td>\n",
       "    </tr>\n",
       "  </tbody>\n",
       "</table>\n",
       "</div>"
      ],
      "text/plain": [
       "  CAMEO_INTL_2015\n",
       "1              51\n",
       "2              24\n",
       "3              12\n",
       "4              43\n",
       "5              54"
      ]
     },
     "metadata": {},
     "output_type": "display_data"
    }
   ],
   "source": [
    "# Investigate \"PRAEGENDE_JUGENDJAHRE\" and \"CAMEO_INTL_2015\"\n",
    "display(pd.DataFrame(azdias_3['PRAEGENDE_JUGENDJAHRE'].head()))\n",
    "display(pd.DataFrame(azdias_3['CAMEO_INTL_2015'].head(5)))"
   ]
  },
  {
   "cell_type": "code",
   "execution_count": 45,
   "metadata": {},
   "outputs": [],
   "source": [
    "def mixed_engineering(df):\n",
    "    df1 = df['PRAEGENDE_JUGENDJAHRE']\n",
    "    df2 = df['CAMEO_INTL_2015']\n",
    "\n",
    "    # Define mapping dictionary for the first feature\n",
    "    df1_map = {\n",
    "                1.0:  [40, 1], 2.0:  [40, 2],  3.0: [50, 1],  4.0: [50, 2],  5.0: [60, 1],\n",
    "                6.0:  [60, 2], 7.0:  [60, 2],  8.0: [70, 1],  9.0: [70, 2], 10.0: [80, 1], \n",
    "                11.0: [80, 2], 12.0: [80, 1], 13.0: [80, 2], 14.0: [90, 1], 15.0: [90, 2]\n",
    "    }\n",
    "\n",
    "    # Define new decade and movement features for the first feature\n",
    "    decade = df1.map(lambda x: df1_map[x][0], na_action='ignore')\n",
    "    decade = decade.rename('DEKADE')\n",
    "    \n",
    "    movement = df1.map(lambda x: df1_map[x][1], na_action='ignore')\n",
    "    movement = movement.rename('TRUPPENBEWEGUNG')\n",
    "    \n",
    "    # Define new wealth and life_stage features for the second feature\n",
    "    wealth = df2.map(lambda x: int(x) // 10, na_action='ignore')\n",
    "    wealth = wealth.rename('WEALTH')\n",
    "    \n",
    "    life_stage = df2.map(lambda x: int(x) % 10, na_action='ignore')\n",
    "    life_stage = life_stage.rename('LIFE_STAGE')  \n",
    "    \n",
    "    # Remove mixed features and add new features to df\n",
    "    df = df.drop(columns=[df1.name, df2.name])\n",
    "    df[decade.name] = decade\n",
    "    df[movement.name] = movement\n",
    "    df[wealth.name] = wealth\n",
    "    df[life_stage.name] = life_stage\n",
    "    \n",
    "    return df"
   ]
  },
  {
   "cell_type": "code",
   "execution_count": 46,
   "metadata": {},
   "outputs": [],
   "source": [
    "azdias_3 = mixed_engineering(azdias_3)"
   ]
  },
  {
   "cell_type": "code",
   "execution_count": 47,
   "metadata": {},
   "outputs": [
    {
     "data": {
      "text/html": [
       "<div>\n",
       "<style scoped>\n",
       "    .dataframe tbody tr th:only-of-type {\n",
       "        vertical-align: middle;\n",
       "    }\n",
       "\n",
       "    .dataframe tbody tr th {\n",
       "        vertical-align: top;\n",
       "    }\n",
       "\n",
       "    .dataframe thead th {\n",
       "        text-align: right;\n",
       "    }\n",
       "</style>\n",
       "<table border=\"1\" class=\"dataframe\">\n",
       "  <thead>\n",
       "    <tr style=\"text-align: right;\">\n",
       "      <th></th>\n",
       "      <th>DEKADE</th>\n",
       "      <th>TRUPPENBEWEGUNG</th>\n",
       "      <th>WEALTH</th>\n",
       "      <th>LIFE_STAGE</th>\n",
       "    </tr>\n",
       "  </thead>\n",
       "  <tbody>\n",
       "    <tr>\n",
       "      <th>1</th>\n",
       "      <td>90.0</td>\n",
       "      <td>1.0</td>\n",
       "      <td>5.0</td>\n",
       "      <td>1.0</td>\n",
       "    </tr>\n",
       "    <tr>\n",
       "      <th>2</th>\n",
       "      <td>90.0</td>\n",
       "      <td>2.0</td>\n",
       "      <td>2.0</td>\n",
       "      <td>4.0</td>\n",
       "    </tr>\n",
       "    <tr>\n",
       "      <th>3</th>\n",
       "      <td>70.0</td>\n",
       "      <td>1.0</td>\n",
       "      <td>1.0</td>\n",
       "      <td>2.0</td>\n",
       "    </tr>\n",
       "    <tr>\n",
       "      <th>4</th>\n",
       "      <td>70.0</td>\n",
       "      <td>1.0</td>\n",
       "      <td>4.0</td>\n",
       "      <td>3.0</td>\n",
       "    </tr>\n",
       "    <tr>\n",
       "      <th>5</th>\n",
       "      <td>50.0</td>\n",
       "      <td>1.0</td>\n",
       "      <td>5.0</td>\n",
       "      <td>4.0</td>\n",
       "    </tr>\n",
       "  </tbody>\n",
       "</table>\n",
       "</div>"
      ],
      "text/plain": [
       "   DEKADE  TRUPPENBEWEGUNG  WEALTH  LIFE_STAGE\n",
       "1    90.0              1.0     5.0         1.0\n",
       "2    90.0              2.0     2.0         4.0\n",
       "3    70.0              1.0     1.0         2.0\n",
       "4    70.0              1.0     4.0         3.0\n",
       "5    50.0              1.0     5.0         4.0"
      ]
     },
     "metadata": {},
     "output_type": "display_data"
    }
   ],
   "source": [
    "display(azdias_3[['DEKADE', 'TRUPPENBEWEGUNG', 'WEALTH', 'LIFE_STAGE']].head())"
   ]
  },
  {
   "cell_type": "markdown",
   "metadata": {},
   "source": [
    "#### 🟡🟡🟡Discussion 1.2.2: Engineer Mixed-Type Features\n",
    "\n",
    "(Double-click this cell and replace this text with your own text, reporting your findings and decisions regarding mixed-value features. Which ones did you keep, which did you drop, and what engineering steps did you perform?)\n",
    "- `\"PRAEGENDE_JUGENDJAHRE\"` combines information on three dimensions: generation by decade, movement (mainstream vs. avantgarde), and nation (east vs. west). While there aren't enough levels to disentangle east from west, we created two new variables to capture the other two dimensions: an interval-type variable for decade (40s - 90s), and a binary variable for movement (1, 2). \n",
    "- `\"CAMEO_INTL_2015\"` combines information on two axes: wealth and life stage. We broke up the two-digit codes by their 'tens'-place and 'ones'-place digits into two new ordinal variables, `wealth` and `life_stage`."
   ]
  },
  {
   "cell_type": "markdown",
   "metadata": {},
   "source": [
    "#### 🔵Step 1.2.3: Complete Feature Selection\n",
    "\n",
    "In order to finish this step up, you need to make sure that your data frame now only has the columns that you want to keep. To summarize, the dataframe should consist of the following:\n",
    "- All numeric, interval, and ordinal type columns from the original dataset.\n",
    "- Binary categorical features (all numerically-encoded).\n",
    "- Engineered features from other multi-level categorical features and mixed features.\n",
    "\n",
    "Make sure that for any new columns that you have engineered, that you've excluded the original columns from the final dataset. Otherwise, their values will interfere with the analysis later on the project. For example, you should not keep \"PRAEGENDE_JUGENDJAHRE\", since its values won't be useful for the algorithm: only the values derived from it in the engineered features you created should be retained. As a reminder, your data should only be from **the subset with few or no missing values**."
   ]
  },
  {
   "cell_type": "markdown",
   "metadata": {},
   "source": [
    "#### 🔴Confirm that columns check out"
   ]
  },
  {
   "cell_type": "code",
   "execution_count": 48,
   "metadata": {},
   "outputs": [
    {
     "name": "stdout",
     "output_type": "stream",
     "text": [
      "Binary categorical dtype:  int64\n",
      "Everything appears to be fine!\n"
     ]
    }
   ],
   "source": [
    "# Do whatever you need to in order to ensure that the dataframe only contains the columns that should be passed to the algorithm functions.\n",
    "\n",
    "\n",
    "# Check that binary categorical feature is indeed numerical\n",
    "print('Binary categorical dtype: ', azdias_3['OST_WEST_KZ'].dtypes)\n",
    "\n",
    "# Check that the two mixed features were successfully dropped\n",
    "assert 'PRAEGENDE_JUGENDJAHRE' not in azdias_3.columns\n",
    "assert 'CAMEO_INTL_2015' not in azdias_3.columns\n",
    "\n",
    "# Check that the two mixed features were successfully replaced\n",
    "assert 'DEKADE' in azdias_3.columns\n",
    "assert 'TRUPPENBEWEGUNG' in azdias_3.columns\n",
    "assert 'WEALTH' in azdias_3.columns\n",
    "assert 'LIFE_STAGE' in azdias_3.columns\n",
    "\n",
    "# Check that dependent features were successfully dropped \n",
    "if ('LP_FAMILIE_GROB' not in azdias_3.columns) and ('LP_STATUS_FEIN' not in azdias_3.columns):\n",
    "    print('Everything appears to be fine!')"
   ]
  },
  {
   "cell_type": "markdown",
   "metadata": {},
   "source": [
    "### 🔵🔵Step 1.3: Create a Cleaning Function\n",
    "\n",
    "Even though you've finished cleaning up the general population demographics data, it's important to look ahead to the future and realize that you'll need to perform the same cleaning steps on the customer demographics data. In this substep, complete the function below to execute the main feature selection, encoding, and re-engineering steps you performed above. Then, when it comes to looking at the customer data in Step 3, you can just run this function on that DataFrame to get the trimmed dataset in a single step."
   ]
  },
  {
   "cell_type": "markdown",
   "metadata": {},
   "source": [
    "#### 🔴Create Dataset Cleaning Function"
   ]
  },
  {
   "cell_type": "code",
   "execution_count": 49,
   "metadata": {},
   "outputs": [],
   "source": [
    "def clean_data(df):\n",
    "    '''\n",
    "    Perform feature trimming, re-encoding, and engineering for demographics\n",
    "    data\n",
    "    \n",
    "    INPUT: Demographics DataFrame\n",
    "    OUTPUT: Trimmed and cleaned demographics DataFrame\n",
    "    '''\n",
    "    \n",
    "    # Convert missing value codes into NaNs\n",
    "    df = df.apply(convert_nan)\n",
    "    \n",
    "    # Remove hard outliers (Columns)\n",
    "    df = df.drop(outliers_index, axis=1)\n",
    "\n",
    "    \n",
    "    # Remove outliers (rows with more than 30% NaN) \n",
    "    p_nan = df.isna().mean(axis=1)\n",
    "    high_nan = list(p_nan[p_nan > 0.3].index)\n",
    "    df = df.drop(high_nan, axis=0)\n",
    "\n",
    "    \n",
    "    # Re-encode OST_WEST_KZ (numerical values)\n",
    "    df['OST_WEST_KZ'] = df['OST_WEST_KZ'].map({'W': 1, 'O': 2}, na_action='ignore')\n",
    "\n",
    "    \n",
    "    # Drop dependent multi-level features\n",
    "    df = df.drop(columns=[\"LP_FAMILIE_FEIN\", \"LP_STATUS_FEIN\"])\n",
    "    \n",
    "    # One-hot encode multi-level features\n",
    "    df_onehot = pd.get_dummies(df[multilevel_names].astype('str'))\n",
    "    \n",
    "    df_temp = df.drop(multilevel_names, axis=1)\n",
    "    \n",
    "    df = pd.concat([df_temp, df_onehot], axis=1)\n",
    "    \n",
    "    # Remove nan columns (resulting from one-hot encoding)\n",
    "    nan_cols = [column for column in df.columns.tolist() if column[-4:] == \"_nan\"]\n",
    "    df = df.drop(columns=nan_cols)\n",
    "    \n",
    "    # Engineer new features from mixed ones\n",
    "    df = mixed_engineering(df)\n",
    "    \n",
    "    return df"
   ]
  },
  {
   "cell_type": "markdown",
   "metadata": {},
   "source": [
    "# 🔵🔵🔵Step 2: Feature Transformation\n",
    "\n",
    "## 🔵🔵Step 2.1: Apply Feature Scaling\n",
    "\n",
    "Before we apply dimensionality reduction techniques to the data, we need to perform feature scaling so that the principal component vectors are not influenced by the natural differences in scale for features. Starting from this part of the project, you'll want to keep an eye on the [API reference page for sklearn](http://scikit-learn.org/stable/modules/classes.html) to help you navigate to all of the classes and functions that you'll need. In this substep, you'll need to check the following:\n",
    "\n",
    "- sklearn requires that data not have missing values in order for its estimators to work properly. So, before applying the scaler to your data, make sure that you've cleaned the DataFrame of the remaining missing values. This can be as simple as just removing all data points with missing data, or applying an [Imputer](http://scikit-learn.org/stable/modules/generated/sklearn.preprocessing.Imputer.html) to replace all missing values. You might also try a more complicated procedure where you temporarily remove missing values in order to compute the scaling parameters before re-introducing those missing values and applying imputation. Think about how much missing data you have and what possible effects each approach might have on your analysis, and justify your decision in the discussion section below.\n",
    "- For the actual scaling function, a [StandardScaler](http://scikit-learn.org/stable/modules/generated/sklearn.preprocessing.StandardScaler.html) instance is suggested, scaling each feature to mean 0 and standard deviation 1.\n",
    "- For these classes, you can make use of the `.fit_transform()` method to both fit a procedure to the data as well as apply the transformation to the data at the same time. Don't forget to keep the fit sklearn objects handy, since you'll be applying them to the customer demographics data towards the end of the project."
   ]
  },
  {
   "cell_type": "markdown",
   "metadata": {},
   "source": [
    "**Useful Imports**"
   ]
  },
  {
   "cell_type": "code",
   "execution_count": 50,
   "metadata": {},
   "outputs": [],
   "source": [
    "from sklearn.impute import SimpleImputer\n",
    "from sklearn.preprocessing import StandardScaler\n",
    "from sklearn.decomposition import PCA\n",
    "from sklearn.cluster import KMeans"
   ]
  },
  {
   "cell_type": "markdown",
   "metadata": {},
   "source": [
    "#### 🔴Calculate percentage of NaN"
   ]
  },
  {
   "cell_type": "code",
   "execution_count": 51,
   "metadata": {},
   "outputs": [
    {
     "name": "stdout",
     "output_type": "stream",
     "text": [
      "The dataset consists 0.48% of NaN values.\n"
     ]
    }
   ],
   "source": [
    "# Count % NaN\n",
    "total_values = azdias_3.shape[0] * azdias_3.shape[1]\n",
    "total_nan = azdias_3.isna().sum().sum()\n",
    "\n",
    "print('The dataset consists {:.2f}% of NaN values.'.format(100*total_nan/total_values))"
   ]
  },
  {
   "cell_type": "markdown",
   "metadata": {},
   "source": [
    "#### 🔴Deal with NaN values (using an Imputer)\n",
    "\n",
    "Using an imputer, we have the ability to replace NaN values with other values of our liking. \n",
    "A good tactic could be to replace NaN values with the median of that column, but this may lead to unreasonable, non-integer values for categorical data."
   ]
  },
  {
   "cell_type": "code",
   "execution_count": 52,
   "metadata": {},
   "outputs": [
    {
     "name": "stdout",
     "output_type": "stream",
     "text": [
      "Jolly good!\n"
     ]
    }
   ],
   "source": [
    "# Fit-transform imputer to dataset\n",
    "imputer = SimpleImputer(missing_values=np.nan, strategy='most_frequent')\n",
    "imputer_fit = imputer.fit(azdias_3)\n",
    "imputer_transform = imputer_fit.transform(azdias_3)\n",
    "\n",
    "# Create dataset with 0 NaNs\n",
    "azdias_4 = pd.DataFrame(imputer_transform, columns=azdias_3.columns)\n",
    "\n",
    "# Check if process was successful\n",
    "if azdias_4.isna().sum().sum() == 0:\n",
    "    print('Jolly good!')"
   ]
  },
  {
   "cell_type": "markdown",
   "metadata": {},
   "source": [
    "#### 🔴Apply feature scaling (standardisation)"
   ]
  },
  {
   "cell_type": "code",
   "execution_count": 53,
   "metadata": {},
   "outputs": [],
   "source": [
    "# Apply feature scaling to the general population demographics data\n",
    "scaler = StandardScaler()\n",
    "scaler_fit = scaler.fit(azdias_4)\n",
    "scaler_transform = scaler_fit.transform(azdias_4)\n",
    "azdias_5 = pd.DataFrame(scaler_transform, columns=azdias_4.columns)"
   ]
  },
  {
   "cell_type": "code",
   "execution_count": 54,
   "metadata": {},
   "outputs": [
    {
     "data": {
      "text/html": [
       "<div>\n",
       "<style scoped>\n",
       "    .dataframe tbody tr th:only-of-type {\n",
       "        vertical-align: middle;\n",
       "    }\n",
       "\n",
       "    .dataframe tbody tr th {\n",
       "        vertical-align: top;\n",
       "    }\n",
       "\n",
       "    .dataframe thead th {\n",
       "        text-align: right;\n",
       "    }\n",
       "</style>\n",
       "<table border=\"1\" class=\"dataframe\">\n",
       "  <thead>\n",
       "    <tr style=\"text-align: right;\">\n",
       "      <th></th>\n",
       "      <th>ALTERSKATEGORIE_GROB</th>\n",
       "      <th>ANREDE_KZ</th>\n",
       "      <th>FINANZ_MINIMALIST</th>\n",
       "      <th>FINANZ_SPARER</th>\n",
       "      <th>FINANZ_VORSORGER</th>\n",
       "      <th>FINANZ_ANLEGER</th>\n",
       "      <th>FINANZ_UNAUFFAELLIGER</th>\n",
       "      <th>FINANZ_HAUSBAUER</th>\n",
       "      <th>GREEN_AVANTGARDE</th>\n",
       "      <th>HEALTH_TYP</th>\n",
       "      <th>...</th>\n",
       "      <th>CAMEO_DEU_2015_8D</th>\n",
       "      <th>CAMEO_DEU_2015_9A</th>\n",
       "      <th>CAMEO_DEU_2015_9B</th>\n",
       "      <th>CAMEO_DEU_2015_9C</th>\n",
       "      <th>CAMEO_DEU_2015_9D</th>\n",
       "      <th>CAMEO_DEU_2015_9E</th>\n",
       "      <th>DEKADE</th>\n",
       "      <th>TRUPPENBEWEGUNG</th>\n",
       "      <th>WEALTH</th>\n",
       "      <th>LIFE_STAGE</th>\n",
       "    </tr>\n",
       "  </thead>\n",
       "  <tbody>\n",
       "    <tr>\n",
       "      <th>0</th>\n",
       "      <td>-1.766595</td>\n",
       "      <td>0.957919</td>\n",
       "      <td>-1.494584</td>\n",
       "      <td>1.537956</td>\n",
       "      <td>-1.040685</td>\n",
       "      <td>1.466015</td>\n",
       "      <td>0.958808</td>\n",
       "      <td>1.339226</td>\n",
       "      <td>-0.530416</td>\n",
       "      <td>1.010180</td>\n",
       "      <td>...</td>\n",
       "      <td>-0.150075</td>\n",
       "      <td>-0.162554</td>\n",
       "      <td>-0.189552</td>\n",
       "      <td>-0.179795</td>\n",
       "      <td>-0.192782</td>\n",
       "      <td>-0.089763</td>\n",
       "      <td>1.098129</td>\n",
       "      <td>-0.530416</td>\n",
       "      <td>1.175683</td>\n",
       "      <td>-1.248968</td>\n",
       "    </tr>\n",
       "    <tr>\n",
       "      <th>1</th>\n",
       "      <td>0.200520</td>\n",
       "      <td>0.957919</td>\n",
       "      <td>-1.494584</td>\n",
       "      <td>0.864597</td>\n",
       "      <td>-1.766958</td>\n",
       "      <td>-0.570969</td>\n",
       "      <td>0.244255</td>\n",
       "      <td>1.339226</td>\n",
       "      <td>1.885313</td>\n",
       "      <td>1.010180</td>\n",
       "      <td>...</td>\n",
       "      <td>-0.150075</td>\n",
       "      <td>-0.162554</td>\n",
       "      <td>-0.189552</td>\n",
       "      <td>-0.179795</td>\n",
       "      <td>-0.192782</td>\n",
       "      <td>-0.089763</td>\n",
       "      <td>1.098129</td>\n",
       "      <td>1.885313</td>\n",
       "      <td>-0.869679</td>\n",
       "      <td>0.767021</td>\n",
       "    </tr>\n",
       "    <tr>\n",
       "      <th>2</th>\n",
       "      <td>1.184078</td>\n",
       "      <td>0.957919</td>\n",
       "      <td>0.683177</td>\n",
       "      <td>-0.482122</td>\n",
       "      <td>1.138132</td>\n",
       "      <td>-0.570969</td>\n",
       "      <td>-1.184852</td>\n",
       "      <td>-0.791382</td>\n",
       "      <td>-0.530416</td>\n",
       "      <td>-0.311815</td>\n",
       "      <td>...</td>\n",
       "      <td>-0.150075</td>\n",
       "      <td>-0.162554</td>\n",
       "      <td>-0.189552</td>\n",
       "      <td>-0.179795</td>\n",
       "      <td>-0.192782</td>\n",
       "      <td>-0.089763</td>\n",
       "      <td>-0.267708</td>\n",
       "      <td>-0.530416</td>\n",
       "      <td>-1.551467</td>\n",
       "      <td>-0.576972</td>\n",
       "    </tr>\n",
       "    <tr>\n",
       "      <th>3</th>\n",
       "      <td>0.200520</td>\n",
       "      <td>-1.043929</td>\n",
       "      <td>0.683177</td>\n",
       "      <td>0.191238</td>\n",
       "      <td>0.411860</td>\n",
       "      <td>-1.249964</td>\n",
       "      <td>0.244255</td>\n",
       "      <td>-0.791382</td>\n",
       "      <td>-0.530416</td>\n",
       "      <td>1.010180</td>\n",
       "      <td>...</td>\n",
       "      <td>-0.150075</td>\n",
       "      <td>-0.162554</td>\n",
       "      <td>-0.189552</td>\n",
       "      <td>-0.179795</td>\n",
       "      <td>-0.192782</td>\n",
       "      <td>-0.089763</td>\n",
       "      <td>-0.267708</td>\n",
       "      <td>-0.530416</td>\n",
       "      <td>0.493895</td>\n",
       "      <td>0.095024</td>\n",
       "    </tr>\n",
       "    <tr>\n",
       "      <th>4</th>\n",
       "      <td>-1.766595</td>\n",
       "      <td>0.957919</td>\n",
       "      <td>-0.042744</td>\n",
       "      <td>-1.155481</td>\n",
       "      <td>1.138132</td>\n",
       "      <td>-0.570969</td>\n",
       "      <td>-0.470299</td>\n",
       "      <td>1.339226</td>\n",
       "      <td>-0.530416</td>\n",
       "      <td>1.010180</td>\n",
       "      <td>...</td>\n",
       "      <td>-0.150075</td>\n",
       "      <td>-0.162554</td>\n",
       "      <td>-0.189552</td>\n",
       "      <td>-0.179795</td>\n",
       "      <td>-0.192782</td>\n",
       "      <td>-0.089763</td>\n",
       "      <td>-1.633546</td>\n",
       "      <td>-0.530416</td>\n",
       "      <td>1.175683</td>\n",
       "      <td>0.767021</td>\n",
       "    </tr>\n",
       "  </tbody>\n",
       "</table>\n",
       "<p>5 rows × 190 columns</p>\n",
       "</div>"
      ],
      "text/plain": [
       "   ALTERSKATEGORIE_GROB  ANREDE_KZ  FINANZ_MINIMALIST  FINANZ_SPARER  \\\n",
       "0             -1.766595   0.957919          -1.494584       1.537956   \n",
       "1              0.200520   0.957919          -1.494584       0.864597   \n",
       "2              1.184078   0.957919           0.683177      -0.482122   \n",
       "3              0.200520  -1.043929           0.683177       0.191238   \n",
       "4             -1.766595   0.957919          -0.042744      -1.155481   \n",
       "\n",
       "   FINANZ_VORSORGER  FINANZ_ANLEGER  FINANZ_UNAUFFAELLIGER  FINANZ_HAUSBAUER  \\\n",
       "0         -1.040685        1.466015               0.958808          1.339226   \n",
       "1         -1.766958       -0.570969               0.244255          1.339226   \n",
       "2          1.138132       -0.570969              -1.184852         -0.791382   \n",
       "3          0.411860       -1.249964               0.244255         -0.791382   \n",
       "4          1.138132       -0.570969              -0.470299          1.339226   \n",
       "\n",
       "   GREEN_AVANTGARDE  HEALTH_TYP  ...  CAMEO_DEU_2015_8D  CAMEO_DEU_2015_9A  \\\n",
       "0         -0.530416    1.010180  ...          -0.150075          -0.162554   \n",
       "1          1.885313    1.010180  ...          -0.150075          -0.162554   \n",
       "2         -0.530416   -0.311815  ...          -0.150075          -0.162554   \n",
       "3         -0.530416    1.010180  ...          -0.150075          -0.162554   \n",
       "4         -0.530416    1.010180  ...          -0.150075          -0.162554   \n",
       "\n",
       "   CAMEO_DEU_2015_9B  CAMEO_DEU_2015_9C  CAMEO_DEU_2015_9D  CAMEO_DEU_2015_9E  \\\n",
       "0          -0.189552          -0.179795          -0.192782          -0.089763   \n",
       "1          -0.189552          -0.179795          -0.192782          -0.089763   \n",
       "2          -0.189552          -0.179795          -0.192782          -0.089763   \n",
       "3          -0.189552          -0.179795          -0.192782          -0.089763   \n",
       "4          -0.189552          -0.179795          -0.192782          -0.089763   \n",
       "\n",
       "     DEKADE  TRUPPENBEWEGUNG    WEALTH  LIFE_STAGE  \n",
       "0  1.098129        -0.530416  1.175683   -1.248968  \n",
       "1  1.098129         1.885313 -0.869679    0.767021  \n",
       "2 -0.267708        -0.530416 -1.551467   -0.576972  \n",
       "3 -0.267708        -0.530416  0.493895    0.095024  \n",
       "4 -1.633546        -0.530416  1.175683    0.767021  \n",
       "\n",
       "[5 rows x 190 columns]"
      ]
     },
     "execution_count": 54,
     "metadata": {},
     "output_type": "execute_result"
    }
   ],
   "source": [
    "# Quickly check whether head() values are reasonable\n",
    "azdias_5.head()"
   ]
  },
  {
   "cell_type": "markdown",
   "metadata": {},
   "source": [
    "### 🟡🟡🟡Discussion 2.1: Apply Feature Scaling\n",
    "\n",
    "#### Missing Values\n",
    "An imputer was used to deal with NaN values. The missing values were replaced with the most frequent value in their respective column (to avoid unreasonable results in categorical features).\n",
    "\n",
    "#### Feature Scaling\n",
    "For feature scaling we simply standardised the data."
   ]
  },
  {
   "cell_type": "markdown",
   "metadata": {},
   "source": [
    "## 🔵🔵Step 2.2: Perform Dimensionality Reduction\n",
    "\n",
    "On your scaled data, you are now ready to apply dimensionality reduction techniques.\n",
    "\n",
    "Use sklearn's [PCA](http://scikit-learn.org/stable/modules/generated/sklearn.decomposition.PCA.html) class to apply principal component analysis on the data, thus finding the vectors of maximal variance in the data. \n",
    "- To start, you should not set any parameters (so all components are computed) or set a number of components that is at least half the number of features (so there's enough features to see the general trend in variability).\n",
    "- Check out the ratio of variance explained by each principal component as well as the cumulative variance explained. Try plotting the cumulative or sequential values using matplotlib's [`plot()`](https://matplotlib.org/api/_as_gen/matplotlib.pyplot.plot.html) function. Based on what you find, select a value for the number of transformed features you'll retain for the clustering part of the project.\n",
    "- Once you've made a choice for the number of components to keep, make sure you re-fit a PCA instance to perform the decided-on transformation."
   ]
  },
  {
   "cell_type": "markdown",
   "metadata": {},
   "source": [
    "**Imports**"
   ]
  },
  {
   "cell_type": "code",
   "execution_count": 55,
   "metadata": {},
   "outputs": [],
   "source": [
    "from sklearn.decomposition import PCA\n",
    "from sklearn.metrics import confusion_matrix, accuracy_score"
   ]
  },
  {
   "cell_type": "markdown",
   "metadata": {},
   "source": [
    "#### 🔴Create new dataset with PCA "
   ]
  },
  {
   "cell_type": "code",
   "execution_count": 56,
   "metadata": {},
   "outputs": [],
   "source": [
    "# Instantiate\n",
    "pca_test = PCA(azdias_5.shape[1])\n",
    "\n",
    "# Fit-transform\n",
    "azdias_pca_test = pca.fit_transform(azdias_5)"
   ]
  },
  {
   "cell_type": "markdown",
   "metadata": {},
   "source": [
    "#### 🔴Create Scree Plot Helper Function\n",
    "This will help us determine the amount of components that we want using the pca instance we defined above. "
   ]
  },
  {
   "cell_type": "code",
   "execution_count": 57,
   "metadata": {},
   "outputs": [],
   "source": [
    "def scree_plot(pca):\n",
    "    '''\n",
    "    Creates a scree plot associated with the principal components \n",
    "    \n",
    "    INPUT: pca - the result of instantian of PCA in scikit learn\n",
    "            \n",
    "    OUTPUT: None\n",
    "            \n",
    "    '''\n",
    "    num_components = len(pca.explained_variance_ratio_)\n",
    "    ind = np.arange(num_components)        # Number of components\n",
    "    var = pca.explained_variance_ratio_    # Variance explained by each component\n",
    " \n",
    "    plt.figure(figsize=(10, 6))\n",
    "    ax = plt.subplot(111)\n",
    "    cumvar = np.cumsum(var)              # Commulative sum of variance explained                 \n",
    "    ax.bar(ind, var) \n",
    "    ax.plot(ind, cumvar)\n",
    "    \n",
    "\n",
    " \n",
    "    ax.xaxis.set_tick_params(width=0)\n",
    "    ax.yaxis.set_tick_params(width=2, length=12)\n",
    " \n",
    "    ax.set_xlabel(\"# Principal Component\")\n",
    "    ax.set_ylabel(\"Variance Explained (%)\")\n",
    "    plt.title('Explained Variance Per Principal Component')"
   ]
  },
  {
   "cell_type": "code",
   "execution_count": 58,
   "metadata": {},
   "outputs": [
    {
     "data": {
      "image/png": "[encoded data removed]",
      "text/plain": [
       "<Figure size 720x432 with 1 Axes>"
      ]
     },
     "metadata": {
      "needs_background": "light"
     },
     "output_type": "display_data"
    }
   ],
   "source": [
    "scree_plot(pca_test)"
   ]
  },
  {
   "cell_type": "code",
   "execution_count": 61,
   "metadata": {},
   "outputs": [],
   "source": [
    "# Number of components\n",
    "ind = np.arange(len(pca.explained_variance_ratio_)) \n",
    "# Variance explained by each component\n",
    "var = pca.explained_variance_ratio_\n",
    "# Commulative sum of variance explained \n",
    "cumvar = pd.Series(np.cumsum(var))            "
   ]
  },
  {
   "cell_type": "markdown",
   "metadata": {},
   "source": [
    "#### 🔴Pick components so that ~80% of variance is explained"
   ]
  },
  {
   "cell_type": "code",
   "execution_count": 73,
   "metadata": {},
   "outputs": [
    {
     "name": "stdout",
     "output_type": "stream",
     "text": [
      "To retain ~80% of the information, 89 principal components will be used\n"
     ]
    }
   ],
   "source": [
    "# Clip commulative variance series at cutoff variance\n",
    "cutoff = 0.808                            # Define cutoff\n",
    "clip1 = cumvar.clip(upper = cutoff)       # Clip\n",
    "clip2 = clip1[clip1 != cutoff]            # Remove clipped\n",
    "num_components = len(clip2)               # Return number of principal components to keep\n",
    "print('To retain ~80% of the information, {} principal components will be used'.format(num_components))"
   ]
  },
  {
   "cell_type": "markdown",
   "metadata": {},
   "source": [
    "#### 🔴Re-apply PCA"
   ]
  },
  {
   "cell_type": "code",
   "execution_count": 74,
   "metadata": {},
   "outputs": [],
   "source": [
    "# Re-apply PCA to the data while selecting for number of components to retain.\n",
    "pca = PCA(num_components)\n",
    "azdias_pca = pca.fit_transform(azdias_5)"
   ]
  },
  {
   "cell_type": "code",
   "execution_count": 77,
   "metadata": {},
   "outputs": [
    {
     "data": {
      "image/png": "[encoded data removed]",
      "text/plain": [
       "<Figure size 720x432 with 1 Axes>"
      ]
     },
     "metadata": {
      "needs_background": "light"
     },
     "output_type": "display_data"
    }
   ],
   "source": [
    "scree_plot(pca)"
   ]
  },
  {
   "cell_type": "markdown",
   "metadata": {},
   "source": [
    "### 🟡🟡🟡Discussion 2.2: Perform Dimensionality Reduction\n",
    "\n",
    "(Double-click this cell and replace this text with your own text, reporting your findings and decisions regarding dimensionality reduction. How many principal components / transformed features are you retaining for the next step of the analysis?)"
   ]
  },
  {
   "cell_type": "markdown",
   "metadata": {},
   "source": [
    "## 🔵🔵Step 2.3: Interpret Principal Components\n",
    "\n",
    "Now that we have our transformed principal components, it's a nice idea to check out the weight of each variable on the first few components to see if they can be interpreted in some fashion.\n",
    "\n",
    "As a reminder, each principal component is a unit vector that points in the direction of highest variance (after accounting for the variance captured by earlier principal components). The further a weight is from zero, the more the principal component is in the direction of the corresponding feature. If two features have large weights of the same sign (both positive or both negative), then increases in one tend expect to be associated with increases in the other. To contrast, features with different signs can be expected to show a negative correlation: increases in one variable should result in a decrease in the other.\n",
    "\n",
    "- To investigate the features, you should map each weight to their corresponding feature name, then sort the features according to weight. The most interesting features for each principal component, then, will be those at the beginning and end of the sorted list. Use the data dictionary document to help you understand these most prominent features, their relationships, and what a positive or negative value on the principal component might indicate.\n",
    "- You should investigate and interpret feature associations from the first three principal components in this substep. To help facilitate this, you should write a function that you can call at any time to print the sorted list of feature weights, for the *i*-th principal component. This might come in handy in the next step of the project, when you interpret the tendencies of the discovered clusters."
   ]
  },
  {
   "cell_type": "code",
   "execution_count": 60,
   "metadata": {},
   "outputs": [],
   "source": [
    "# Map weights for the first principal component to corresponding feature names\n",
    "# and then print the linked values, sorted by weight.\n",
    "# HINT: Try defining a function here or in a new cell that you can reuse in the\n",
    "# other cells.\n",
    "\n"
   ]
  },
  {
   "cell_type": "code",
   "execution_count": 61,
   "metadata": {},
   "outputs": [],
   "source": [
    "# Map weights for the second principal component to corresponding feature names\n",
    "# and then print the linked values, sorted by weight.\n",
    "\n"
   ]
  },
  {
   "cell_type": "code",
   "execution_count": 62,
   "metadata": {},
   "outputs": [],
   "source": [
    "# Map weights for the third principal component to corresponding feature names\n",
    "# and then print the linked values, sorted by weight.\n",
    "\n"
   ]
  },
  {
   "cell_type": "markdown",
   "metadata": {},
   "source": [
    "### 🟡🟡🟡Discussion 2.3: Interpret Principal Components\n",
    "\n",
    "(Double-click this cell and replace this text with your own text, reporting your observations from detailed investigation of the first few principal components generated. Can we interpret positive and negative values from them in a meaningful way?)"
   ]
  },
  {
   "cell_type": "markdown",
   "metadata": {},
   "source": [
    "# 🔵🔵🔵Step 3: Clustering\n",
    "\n",
    "## 🔵🔵Step 3.1: Apply Clustering to General Population\n",
    "\n",
    "You've assessed and cleaned the demographics data, then scaled and transformed them. Now, it's time to see how the data clusters in the principal components space. In this substep, you will apply k-means clustering to the dataset and use the average within-cluster distances from each point to their assigned cluster's centroid to decide on a number of clusters to keep.\n",
    "\n",
    "- Use sklearn's [KMeans](http://scikit-learn.org/stable/modules/generated/sklearn.cluster.KMeans.html#sklearn.cluster.KMeans) class to perform k-means clustering on the PCA-transformed data.\n",
    "- Then, compute the average difference from each point to its assigned cluster's center. **Hint**: The KMeans object's `.score()` method might be useful here, but note that in sklearn, scores tend to be defined so that larger is better. Try applying it to a small, toy dataset, or use an internet search to help your understanding.\n",
    "- Perform the above two steps for a number of different cluster counts. You can then see how the average distance decreases with an increasing number of clusters. However, each additional cluster provides a smaller net benefit. Use this fact to select a final number of clusters in which to group the data. **Warning**: because of the large size of the dataset, it can take a long time for the algorithm to resolve. The more clusters to fit, the longer the algorithm will take. You should test for cluster counts through at least 10 clusters to get the full picture, but you shouldn't need to test for a number of clusters above about 30.\n",
    "- Once you've selected a final number of clusters to use, re-fit a KMeans instance to perform the clustering operation. Make sure that you also obtain the cluster assignments for the general demographics data, since you'll be using them in the final Step 3.3."
   ]
  },
  {
   "cell_type": "code",
   "execution_count": 63,
   "metadata": {},
   "outputs": [],
   "source": [
    "# Over a number of different cluster counts...\n",
    "\n",
    "\n",
    "    # run k-means clustering on the data and...\n",
    "    \n",
    "    \n",
    "    # compute the average within-cluster distances.\n",
    "    \n",
    "    "
   ]
  },
  {
   "cell_type": "code",
   "execution_count": 64,
   "metadata": {},
   "outputs": [],
   "source": [
    "# Investigate the change in within-cluster distance across number of clusters.\n",
    "# HINT: Use matplotlib's plot function to visualize this relationship.\n",
    "\n"
   ]
  },
  {
   "cell_type": "code",
   "execution_count": 65,
   "metadata": {},
   "outputs": [],
   "source": [
    "# Re-fit the k-means model with the selected number of clusters and obtain\n",
    "# cluster predictions for the general population demographics data.\n",
    "\n"
   ]
  },
  {
   "cell_type": "markdown",
   "metadata": {},
   "source": [
    "### 🟡🟡🟡Discussion 3.1: Apply Clustering to General Population\n",
    "\n",
    "(Double-click this cell and replace this text with your own text, reporting your findings and decisions regarding clustering. Into how many clusters have you decided to segment the population?)"
   ]
  },
  {
   "cell_type": "markdown",
   "metadata": {},
   "source": [
    "## 🔵🔵Step 3.2: Apply All Steps to the Customer Data\n",
    "\n",
    "Now that you have clusters and cluster centers for the general population, it's time to see how the customer data maps on to those clusters. Take care to not confuse this for re-fitting all of the models to the customer data. Instead, you're going to use the fits from the general population to clean, transform, and cluster the customer data. In the last step of the project, you will interpret how the general population fits apply to the customer data.\n",
    "\n",
    "- Don't forget when loading in the customers data, that it is semicolon (`;`) delimited.\n",
    "- Apply the same feature wrangling, selection, and engineering steps to the customer demographics using the `clean_data()` function you created earlier. (You can assume that the customer demographics data has similar meaning behind missing data patterns as the general demographics data.)\n",
    "- Use the sklearn objects from the general demographics data, and apply their transformations to the customers data. That is, you should not be using a `.fit()` or `.fit_transform()` method to re-fit the old objects, nor should you be creating new sklearn objects! Carry the data through the feature scaling, PCA, and clustering steps, obtaining cluster assignments for all of the data in the customer demographics data."
   ]
  },
  {
   "cell_type": "code",
   "execution_count": 66,
   "metadata": {},
   "outputs": [
    {
     "ename": "SyntaxError",
     "evalue": "invalid syntax (<ipython-input-66-416d584d1460>, line 2)",
     "output_type": "error",
     "traceback": [
      "\u001b[1;36m  File \u001b[1;32m\"<ipython-input-66-416d584d1460>\"\u001b[1;36m, line \u001b[1;32m2\u001b[0m\n\u001b[1;33m    customers =\u001b[0m\n\u001b[1;37m                ^\u001b[0m\n\u001b[1;31mSyntaxError\u001b[0m\u001b[1;31m:\u001b[0m invalid syntax\n"
     ]
    }
   ],
   "source": [
    "# Load in the customer demographics data.\n",
    "customers = "
   ]
  },
  {
   "cell_type": "code",
   "execution_count": null,
   "metadata": {},
   "outputs": [],
   "source": [
    "# Apply preprocessing, feature transformation, and clustering from the general\n",
    "# demographics onto the customer data, obtaining cluster predictions for the\n",
    "# customer demographics data.\n",
    "\n"
   ]
  },
  {
   "cell_type": "markdown",
   "metadata": {},
   "source": [
    "## 🔵🔵Step 3.3: Compare Customer Data to Demographics Data\n",
    "\n",
    "At this point, you have clustered data based on demographics of the general population of Germany, and seen how the customer data for a mail-order sales company maps onto those demographic clusters. In this final substep, you will compare the two cluster distributions to see where the strongest customer base for the company is.\n",
    "\n",
    "Consider the proportion of persons in each cluster for the general population, and the proportions for the customers. If we think the company's customer base to be universal, then the cluster assignment proportions should be fairly similar between the two. If there are only particular segments of the population that are interested in the company's products, then we should see a mismatch from one to the other. If there is a higher proportion of persons in a cluster for the customer data compared to the general population (e.g. 5% of persons are assigned to a cluster for the general population, but 15% of the customer data is closest to that cluster's centroid) then that suggests the people in that cluster to be a target audience for the company. On the other hand, the proportion of the data in a cluster being larger in the general population than the customer data (e.g. only 2% of customers closest to a population centroid that captures 6% of the data) suggests that group of persons to be outside of the target demographics.\n",
    "\n",
    "Take a look at the following points in this step:\n",
    "\n",
    "- Compute the proportion of data points in each cluster for the general population and the customer data. Visualizations will be useful here: both for the individual dataset proportions, but also to visualize the ratios in cluster representation between groups. Seaborn's [`countplot()`](https://seaborn.pydata.org/generated/seaborn.countplot.html) or [`barplot()`](https://seaborn.pydata.org/generated/seaborn.barplot.html) function could be handy.\n",
    "  - Recall the analysis you performed in step 1.1.3 of the project, where you separated out certain data points from the dataset if they had more than a specified threshold of missing values. If you found that this group was qualitatively different from the main bulk of the data, you should treat this as an additional data cluster in this analysis. Make sure that you account for the number of data points in this subset, for both the general population and customer datasets, when making your computations!\n",
    "- Which cluster or clusters are overrepresented in the customer dataset compared to the general population? Select at least one such cluster and infer what kind of people might be represented by that cluster. Use the principal component interpretations from step 2.3 or look at additional components to help you make this inference. Alternatively, you can use the `.inverse_transform()` method of the PCA and StandardScaler objects to transform centroids back to the original data space and interpret the retrieved values directly.\n",
    "- Perform a similar investigation for the underrepresented clusters. Which cluster or clusters are underrepresented in the customer dataset compared to the general population, and what kinds of people are typified by these clusters?"
   ]
  },
  {
   "cell_type": "code",
   "execution_count": null,
   "metadata": {},
   "outputs": [],
   "source": [
    "# Compare the proportion of data in each cluster for the customer data to the\n",
    "# proportion of data in each cluster for the general population.\n",
    "\n"
   ]
  },
  {
   "cell_type": "code",
   "execution_count": null,
   "metadata": {},
   "outputs": [],
   "source": [
    "# What kinds of people are part of a cluster that is overrepresented in the\n",
    "# customer data compared to the general population?\n",
    "\n"
   ]
  },
  {
   "cell_type": "code",
   "execution_count": null,
   "metadata": {},
   "outputs": [],
   "source": [
    "# What kinds of people are part of a cluster that is underrepresented in the\n",
    "# customer data compared to the general population?\n",
    "\n"
   ]
  },
  {
   "cell_type": "markdown",
   "metadata": {},
   "source": [
    "### 🟡🟡🟡Discussion 3.3: Compare Customer Data to Demographics Data\n",
    "\n",
    "(Double-click this cell and replace this text with your own text, reporting findings and conclusions from the clustering analysis. Can we describe segments of the population that are relatively popular with the mail-order company, or relatively unpopular with the company?)"
   ]
  },
  {
   "cell_type": "markdown",
   "metadata": {},
   "source": [
    "> Congratulations on making it this far in the project! Before you finish, make sure to check through the entire notebook from top to bottom to make sure that your analysis follows a logical flow and all of your findings are documented in **Discussion** cells. Once you've checked over all of your work, you should export the notebook as an HTML document to submit for evaluation. You can do this from the menu, navigating to **File -> Download as -> HTML (.html)**. You will submit both that document and this notebook for your project submission."
   ]
  },
  {
   "cell_type": "code",
   "execution_count": null,
   "metadata": {},
   "outputs": [],
   "source": []
  }
 ],
 "metadata": {
  "kernelspec": {
   "display_name": "Python 3",
   "language": "python",
   "name": "python3"
  },
  "language_info": {
   "codemirror_mode": {
    "name": "ipython",
    "version": 3
   },
   "file_extension": ".py",
   "mimetype": "text/x-python",
   "name": "python",
   "nbconvert_exporter": "python",
   "pygments_lexer": "ipython3",
   "version": "3.7.7"
  }
 },
 "nbformat": 4,
 "nbformat_minor": 4
}
